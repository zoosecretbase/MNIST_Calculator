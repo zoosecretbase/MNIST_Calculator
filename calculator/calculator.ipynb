{
 "cells": [
  {
   "cell_type": "code",
   "execution_count": 1,
   "metadata": {},
   "outputs": [
    {
     "name": "stdout",
     "output_type": "stream",
     "text": [
      "3.9.5 (v3.9.5:0a7dcbdb13, May  3 2021, 13:17:02) \n",
      "[Clang 6.0 (clang-600.0.57)]\n",
      "['/Users/ryomacmini/work/codes/MNIST_Calculator/calculator', '/Users/ryomacmini/.vscode/extensions/ms-toolsai.jupyter-2021.9.1101343141/pythonFiles', '/Users/ryomacmini/.vscode/extensions/ms-toolsai.jupyter-2021.9.1101343141/pythonFiles/lib/python', '/Library/Frameworks/Python.framework/Versions/3.9/lib/python39.zip', '/Library/Frameworks/Python.framework/Versions/3.9/lib/python3.9', '/Library/Frameworks/Python.framework/Versions/3.9/lib/python3.9/lib-dynload', '', '/Users/ryomacmini/work/codes/MNIST_Calculator/calculator/.venv/lib/python3.9/site-packages', '/Users/ryomacmini/work/codes/MNIST_Calculator/calculator/.venv/lib/python3.9/site-packages/IPython/extensions', '/Users/ryomacmini/.ipython']\n"
     ]
    }
   ],
   "source": [
    "from __future__ import division\n",
    "from __future__ import print_function\n",
    "\n",
    "import time\n",
    "import argparse\n",
    "import sys\n",
    "print(sys.version)\n",
    "print(sys.path)\n",
    "import numpy as np\n",
    "import matplotlib.pyplot as plt\n",
    "from PIL import Image\n",
    "import cv2\n",
    "\n",
    "import torch\n",
    "import torch.nn.functional as F\n",
    "import torch.optim as optim\n",
    "from torchvision.utils import make_grid, save_image\n",
    "\n",
    "from tensorboardX import SummaryWriter\n",
    "from tqdm import tqdm\n",
    "from copy import deepcopy\n",
    "\n",
    "\n",
    "from utils import *\n",
    "from models import *\n",
    "from fid_score import *\n",
    "from inception_score import *\n",
    "\n",
    "from real_imgs import *"
   ]
  },
  {
   "cell_type": "markdown",
   "metadata": {},
   "source": [
    "# ロードした画像の表示を試す。\n",
    "(1)ローカルにある画像を表示すること<br>\n",
    "(2)RGBではなくグレースケールにすること<br>\n",
    "(3)28.28にreshapeすること→なぜかRGB最小が0にならなかったので、そもそも28pixで画像を準備<br>"
   ]
  },
  {
   "cell_type": "code",
   "execution_count": 5,
   "metadata": {},
   "outputs": [
    {
     "name": "stdout",
     "output_type": "stream",
     "text": [
      "PNG (28, 28) RGBA\n",
      "((0, 255), (0, 255), (0, 255), (255, 255))\n",
      "(255, 255, 255, 255)\n"
     ]
    },
    {
     "data": {
      "image/png": "[encoded data removed]",
      "text/plain": [
       "<Figure size 432x288 with 1 Axes>"
      ]
     },
     "metadata": {
      "needs_background": "light"
     },
     "output_type": "display_data"
    }
   ],
   "source": [
    "from PIL import Image, ImageFilter\n",
    "\n",
    "im = Image.open('img/addition28pix.png')\n",
    "plt.imshow(np.array(im))\n",
    "print(im.format, im.size, im.mode) #フォーマット、サイズ（幅、高さ）、モードなどのメタ情報を取得。サイズは(幅, 高さ)。\n",
    "print(im.getextrema()) #RGB各色の最小値と最大値を取得。\n",
    "print(im.getpixel((14,14 ))) #指定した座標の色を取得。座標の原点(0, 0)は左上。(R, G, B)のタプルが返される。"
   ]
  },
  {
   "cell_type": "code",
   "execution_count": 6,
   "metadata": {},
   "outputs": [
    {
     "name": "stdout",
     "output_type": "stream",
     "text": [
      "None (28, 28) L\n",
      "(0, 255)\n",
      "255\n"
     ]
    },
    {
     "data": {
      "image/png": "[encoded data removed]",
      "text/plain": [
       "<Figure size 432x288 with 1 Axes>"
      ]
     },
     "metadata": {
      "needs_background": "light"
     },
     "output_type": "display_data"
    }
   ],
   "source": [
    "im2 = Image.open('img/multiplication28pix.png')\n",
    "new_im = im2.convert('L')\n",
    "plt.imshow(np.array(new_im), cmap='gray')\n",
    "print(new_im.format, new_im.size, new_im.mode) #フォーマット、サイズ（幅、高さ）、モードなどのメタ情報を取得。サイズは(幅, 高さ)。\n",
    "print(new_im.getextrema()) #RGB各色の最小値と最大値を取得。\n",
    "print(new_im.getpixel((14, 14))) #指定した座標の色を取得。座標の原点(0, 0)は左上。(R, G, B)のタプルが返される。"
   ]
  },
  {
   "cell_type": "code",
   "execution_count": 7,
   "metadata": {},
   "outputs": [
    {
     "name": "stdout",
     "output_type": "stream",
     "text": [
      "None (28, 28) L\n",
      "(0, 255)\n",
      "0\n"
     ]
    },
    {
     "data": {
      "image/png": "[encoded data removed]",
      "text/plain": [
       "<Figure size 432x288 with 1 Axes>"
      ]
     },
     "metadata": {
      "needs_background": "light"
     },
     "output_type": "display_data"
    }
   ],
   "source": [
    "im3 = Image.open('img/equal28pix.png')\n",
    "im3 = im3.convert('L')\n",
    "im3 = im3.resize((28, 28))\n",
    "plt.imshow(np.array(im3), cmap='gray')\n",
    "\n",
    "print(im3.format, im3.size, im3.mode) #フォーマット、サイズ（幅、高さ）、モードなどのメタ情報を取得。サイズは(幅, 高さ)。\n",
    "print(im3.getextrema()) #RGB各色の最小値と最大値を取得。\n",
    "print(im3.getpixel((12, 10))) #指定した座標の色を取得。座標の原点(0, 0)は左上。(R, G, B)のタプルが返される。"
   ]
  },
  {
   "cell_type": "markdown",
   "metadata": {},
   "source": [
    "### ＜参考＞resizeしたら、最小となっているところが\"0\"=完全黒にならなかった"
   ]
  },
  {
   "cell_type": "code",
   "execution_count": 8,
   "metadata": {},
   "outputs": [
    {
     "name": "stdout",
     "output_type": "stream",
     "text": [
      "None (28, 28) L\n",
      "(12, 255)\n",
      "255\n"
     ]
    },
    {
     "data": {
      "image/png": "[encoded data removed]",
      "text/plain": [
       "<Figure size 432x288 with 1 Axes>"
      ]
     },
     "metadata": {
      "needs_background": "light"
     },
     "output_type": "display_data"
    }
   ],
   "source": [
    "im4 = Image.open('img/equal.png')\n",
    "im4 = im4.convert('L')\n",
    "im4 = im4.resize((28, 28))\n",
    "plt.imshow(np.array(im4), cmap='gray')\n",
    "\n",
    "print(im4.format, im4.size, im4.mode) #フォーマット、サイズ（幅、高さ）、モードなどのメタ情報を取得。サイズは(幅, 高さ)。\n",
    "#None (28, 28) L\n",
    "\n",
    "print(im4.getextrema()) #RGB各色の最小値と最大値を取得。\n",
    "#(12, 255)\n",
    "\n",
    "print(im4.getpixel((1, 1))) #指定した座標の色を取得。座標の原点(0, 0)は左上。(R, G, B)のタプルが返される。\n",
    "#255"
   ]
  },
  {
   "cell_type": "markdown",
   "metadata": {},
   "source": [
    "# MNISTから画像を表示してみる"
   ]
  },
  {
   "cell_type": "markdown",
   "metadata": {},
   "source": [
    "### データをダウンロードする"
   ]
  },
  {
   "cell_type": "code",
   "execution_count": 9,
   "metadata": {},
   "outputs": [
    {
     "name": "stdout",
     "output_type": "stream",
     "text": [
      "<class 'torchvision.transforms.transforms.Compose'>\n",
      "<class 'torchvision.datasets.mnist.MNIST'>\n",
      "<class 'torchvision.datasets.mnist.MNIST'>\n",
      "<class 'torchvision.datasets.mnist.MNIST'>\n",
      "<class 'torchvision.datasets.mnist.MNIST'>\n"
     ]
    },
    {
     "name": "stderr",
     "output_type": "stream",
     "text": [
      "/Users/ryomacmini/work/codes/MNIST_Calculator/calculator/.venv/lib/python3.9/site-packages/torchvision/datasets/mnist.py:498: UserWarning: The given NumPy array is not writeable, and PyTorch does not support non-writeable tensors. This means you can write to the underlying (supposedly non-writeable) NumPy array using the tensor. You may want to copy the array to protect its data or make it writeable before converting it to a tensor. This type of warning will be suppressed for the rest of this program. (Triggered internally at  ../torch/csrc/utils/tensor_numpy.cpp:180.)\n",
      "  return torch.from_numpy(parsed.astype(m[2], copy=False)).view(*s)\n"
     ]
    }
   ],
   "source": [
    "transform = transforms.Compose([transforms.ToTensor()])\n",
    "\n",
    "trainset = torchvision.datasets.MNIST(root='./data', train=True,download=True,transform=transform)\n",
    "testset = torchvision.datasets.MNIST(root='./data', train=False, download=True, transform=transform)\n",
    "trainloader = torch.utils.data.DataLoader(trainset,batch_size=len(trainset),shuffle=False,num_workers=2)\n",
    "testloader = torch.utils.data.DataLoader(testset, batch_size=len(testset),shuffle=False, num_workers=2)\n",
    "\n",
    "classes = tuple(np.linspace(0, 9, 10, dtype=np.uint8))\n",
    "\n",
    "print(type(transform))\n",
    "print(type(trainset))\n",
    "print(type(testset))\n",
    "\n",
    "trainset_not_transform = torchvision.datasets.MNIST(root='./data', train=True,download=True)\n",
    "testset_not_transform = torchvision.datasets.MNIST(root='./data', train=False, download=True)\n",
    "print(type(trainset_not_transform))\n",
    "print(type(testset_not_transform))\n"
   ]
  },
  {
   "cell_type": "markdown",
   "metadata": {},
   "source": [
    "### trainloaderの中身を見る"
   ]
  },
  {
   "cell_type": "code",
   "execution_count": 10,
   "metadata": {},
   "outputs": [],
   "source": [
    "data_iter = iter(trainloader)\n",
    "images, labels = data_iter.next()"
   ]
  },
  {
   "cell_type": "code",
   "execution_count": 11,
   "metadata": {},
   "outputs": [
    {
     "name": "stdout",
     "output_type": "stream",
     "text": [
      "<built-in method type of Tensor object at 0x7fd5d888e800>\n",
      "torch.Size([60000, 1, 28, 28])\n",
      "60000\n",
      "------------------------\n",
      "<built-in method type of Tensor object at 0x7fd5d888ec00>\n",
      "torch.Size([60000])\n",
      "60000\n",
      "------------------------\n",
      "torch.Size([1, 28, 28])\n",
      "------------------------\n",
      "Label: tensor(5)\n"
     ]
    },
    {
     "data": {
      "image/png": "[encoded data removed]",
      "text/plain": [
       "<Figure size 432x288 with 1 Axes>"
      ]
     },
     "metadata": {
      "needs_background": "light"
     },
     "output_type": "display_data"
    }
   ],
   "source": [
    "# matplotlibで1つ目のデータを可視化してみる\n",
    "print(images.type)\n",
    "print(images.size())\n",
    "print(len(images))\n",
    "print(\"------------------------\")\n",
    "print(labels.type)\n",
    "print(labels.size())\n",
    "print(len(labels))\n",
    "print(\"------------------------\")\n",
    "print(images[1].size())\n",
    "print(\"------------------------\")\n",
    "npimg = images[1].numpy()\n",
    "npimg = npimg.reshape((28, 28))\n",
    "plt.imshow(npimg, cmap='gray')\n",
    "print('Label:', labels[0])"
   ]
  },
  {
   "cell_type": "markdown",
   "metadata": {},
   "source": [
    "### testloaderの中身を見る"
   ]
  },
  {
   "cell_type": "code",
   "execution_count": 12,
   "metadata": {},
   "outputs": [],
   "source": [
    "testloader_iter= iter(testloader)\n",
    "images2, labels2 = testloader_iter.next()"
   ]
  },
  {
   "cell_type": "code",
   "execution_count": 13,
   "metadata": {},
   "outputs": [
    {
     "name": "stdout",
     "output_type": "stream",
     "text": [
      "<built-in method type of Tensor object at 0x7fd5d8867480>\n",
      "torch.Size([10000, 1, 28, 28])\n",
      "10000\n",
      "------------------------\n",
      "<built-in method type of Tensor object at 0x7fd5b8f87740>\n",
      "torch.Size([10000])\n",
      "10000\n",
      "------------------------\n",
      "torch.Size([1, 28, 28])\n",
      "------------------------\n",
      "Label: tensor(7)\n"
     ]
    },
    {
     "data": {
      "image/png": "[encoded data removed]",
      "text/plain": [
       "<Figure size 432x288 with 1 Axes>"
      ]
     },
     "metadata": {
      "needs_background": "light"
     },
     "output_type": "display_data"
    }
   ],
   "source": [
    "# matplotlibで1つ目のデータを可視化してみる\n",
    "print(images2.type)\n",
    "print(images2.size())\n",
    "print(len(images2))\n",
    "print(\"------------------------\")\n",
    "print(labels2.type)\n",
    "print(labels2.size())\n",
    "print(len(labels2))\n",
    "print(\"------------------------\")\n",
    "print(images2[1].size())\n",
    "print(\"------------------------\")\n",
    "npimg2 = images2[1].numpy()\n",
    "npimg2 = npimg2.reshape((28, 28))\n",
    "plt.imshow(npimg2, cmap='gray')\n",
    "print('Label:', labels2[0])"
   ]
  },
  {
   "cell_type": "markdown",
   "metadata": {},
   "source": [
    "# 学習データを作るための試行錯誤"
   ]
  },
  {
   "cell_type": "markdown",
   "metadata": {},
   "source": [
    "### 桁数をコントロールする方法をマスターする"
   ]
  },
  {
   "cell_type": "markdown",
   "metadata": {},
   "source": [
    "※（かえるのアドバイス）\n",
    "pythonのパディングという操作があるよ！"
   ]
  },
  {
   "cell_type": "code",
   "execution_count": 14,
   "metadata": {},
   "outputs": [
    {
     "name": "stdout",
     "output_type": "stream",
     "text": [
      "8 9 72\n",
      "<class 'int'> <class 'int'> <class 'int'>\n",
      "Xの桁数は 1 Yの桁数は 1 Zの桁数は 2\n"
     ]
    }
   ],
   "source": [
    "X_digit = 1\n",
    "Y_digit = 1\n",
    "result_digit = 2\n",
    "\n",
    "X = random.randrange(10**(X_digit-1),10**X_digit) #指定の桁数の中で乱数が出る\n",
    "Y = random.randrange(10**(Y_digit-1),10**Y_digit) #指定の桁数の中で乱数が出る\n",
    "Z = str(X*Y).zfill(result_digit)\n",
    "\n",
    "print(X,Y,Z)\n",
    "print(type(X),type(Y),type(X))\n",
    "print('Xの桁数は',len(str(X)),\\\n",
    "      'Yの桁数は',len(str(Y)),\\\n",
    "      'Zの桁数は',len(str(Z)))"
   ]
  },
  {
   "cell_type": "markdown",
   "metadata": {},
   "source": [
    "### 数字を指定すれば、指定の画像が取ってこれるようになろう"
   ]
  },
  {
   "cell_type": "code",
   "execution_count": 15,
   "metadata": {},
   "outputs": [
    {
     "name": "stdout",
     "output_type": "stream",
     "text": [
      "<class 'torchvision.transforms.transforms.Compose'>\n",
      "<class 'torchvision.datasets.mnist.MNIST'>\n",
      "<class 'torchvision.datasets.mnist.MNIST'>\n",
      "<class 'torchvision.datasets.mnist.MNIST'>\n",
      "<class 'torchvision.datasets.mnist.MNIST'>\n"
     ]
    }
   ],
   "source": [
    "transform = transforms.Compose([transforms.ToTensor()])\n",
    "\n",
    "trainset = torchvision.datasets.MNIST(root='./data', train=True,download=True,transform=transform)\n",
    "testset = torchvision.datasets.MNIST(root='./data', train=False, download=True, transform=transform)\n",
    "trainloader = torch.utils.data.DataLoader(trainset,batch_size=len(trainset),shuffle=False,num_workers=2)\n",
    "testloader = torch.utils.data.DataLoader(testset, batch_size=len(testset),shuffle=False, num_workers=2)\n",
    "\n",
    "classes = tuple(np.linspace(0, 9, 10, dtype=np.uint8))\n",
    "\n",
    "print(type(transform))\n",
    "print(type(trainset))\n",
    "print(type(testset))\n",
    "\n",
    "trainset_not_transform = torchvision.datasets.MNIST(root='./data', train=True,download=True)\n",
    "testset_not_transform = torchvision.datasets.MNIST(root='./data', train=False, download=True)\n",
    "print(type(trainset_not_transform))\n",
    "print(type(testset_not_transform))\n",
    "\n",
    "trainloader_iter = iter(trainloader)\n",
    "train_images, train_labels = trainloader_iter.next()\n"
   ]
  },
  {
   "cell_type": "code",
   "execution_count": 16,
   "metadata": {},
   "outputs": [
    {
     "data": {
      "text/plain": [
       "{0: [], 1: [], 2: [], 3: [], 4: [], 5: [], 6: [], 7: [], 8: [], 9: []}"
      ]
     },
     "execution_count": 16,
     "metadata": {},
     "output_type": "execute_result"
    }
   ],
   "source": [
    "MNIST_dict = {i: [] for i in range(10)}\n",
    "MNIST_dict"
   ]
  },
  {
   "cell_type": "code",
   "execution_count": 17,
   "metadata": {},
   "outputs": [],
   "source": [
    "for i in range(len(train_images)):\n",
    "    if train_labels[i] == 0:\n",
    "        MNIST_dict[0].append(train_images[i])\n",
    "    if train_labels[i] == 1:\n",
    "        MNIST_dict[1].append(train_images[i])\n",
    "    if train_labels[i] == 2:\n",
    "        MNIST_dict[2].append(train_images[i])\n",
    "    if train_labels[i] == 3:\n",
    "        MNIST_dict[3].append(train_images[i])\n",
    "    if train_labels[i] == 4:\n",
    "        MNIST_dict[4].append(train_images[i])\n",
    "    if train_labels[i] == 5:\n",
    "        MNIST_dict[5].append(train_images[i])\n",
    "    if train_labels[i] == 6:\n",
    "        MNIST_dict[6].append(train_images[i])\n",
    "    if train_labels[i] == 7:\n",
    "        MNIST_dict[7].append(train_images[i])\n",
    "    if train_labels[i] == 8:\n",
    "        MNIST_dict[8].append(train_images[i])\n",
    "    if train_labels[i] == 9:\n",
    "        MNIST_dict[9].append(train_images[i])"
   ]
  },
  {
   "cell_type": "code",
   "execution_count": 18,
   "metadata": {},
   "outputs": [
    {
     "data": {
      "text/plain": [
       "<matplotlib.image.AxesImage at 0x7fd5b9115670>"
      ]
     },
     "execution_count": 18,
     "metadata": {},
     "output_type": "execute_result"
    },
    {
     "data": {
      "image/png": "[encoded data removed]",
      "text/plain": [
       "<Figure size 432x288 with 1 Axes>"
      ]
     },
     "metadata": {
      "needs_background": "light"
     },
     "output_type": "display_data"
    }
   ],
   "source": [
    "test1 = MNIST_dict[1][1000].numpy()\n",
    "test1 = test1.reshape((28, 28))\n",
    "plt.imshow(test1, cmap='gray')"
   ]
  },
  {
   "cell_type": "code",
   "execution_count": 203,
   "metadata": {},
   "outputs": [
    {
     "name": "stdout",
     "output_type": "stream",
     "text": [
      "5923\n",
      "6742\n",
      "5958\n",
      "6131\n",
      "5842\n",
      "5421\n",
      "5918\n",
      "6265\n",
      "5851\n",
      "5949\n"
     ]
    }
   ],
   "source": [
    "print(len(MNIST_dict[0]))\n",
    "print(len(MNIST_dict[1]))\n",
    "print(len(MNIST_dict[2]))\n",
    "print(len(MNIST_dict[3]))\n",
    "print(len(MNIST_dict[4]))\n",
    "print(len(MNIST_dict[5]))\n",
    "print(len(MNIST_dict[6]))\n",
    "print(len(MNIST_dict[7]))\n",
    "print(len(MNIST_dict[8]))\n",
    "print(len(MNIST_dict[9]))"
   ]
  },
  {
   "cell_type": "code",
   "execution_count": 468,
   "metadata": {},
   "outputs": [
    {
     "data": {
      "text/plain": [
       "array([[  0.,   0.,   0.,   0.,   0.,   0.,   0.,   0.,   0.,   0.,   0.,\n",
       "          0.,   0.,   0.,   0.,   0.,   0.,   0.,   0.,   0.,   0.,   0.,\n",
       "          0.,   0.,   0.,   0.,   0.,   0.],\n",
       "       [  0.,   0.,   0.,   0.,   0.,   0.,   0.,   0.,   0.,   0.,   0.,\n",
       "          0.,   0.,   0.,   0.,   0.,   0.,   0.,   0.,   0.,   0.,   0.,\n",
       "          0.,   0.,   0.,   0.,   0.,   0.],\n",
       "       [  0.,   0.,   0.,   0.,   0.,   0.,   0.,   0.,   0.,   0.,   0.,\n",
       "          0.,   0.,   0.,   0.,   0.,   0.,   0.,   0.,   0.,   0.,   0.,\n",
       "          0.,   0.,   0.,   0.,   0.,   0.],\n",
       "       [  0.,   0.,   0.,   0.,   0.,   0.,   0.,   0.,   0.,   0.,   0.,\n",
       "          0.,   0.,   0.,   0.,   0.,   0.,   0.,   0.,   0.,   0.,   0.,\n",
       "          0.,   0.,   0.,   0.,   0.,   0.],\n",
       "       [  0.,   0.,   0.,   0.,   0.,   0.,   0.,   0.,   0.,   0.,   0.,\n",
       "          0.,   0.,   0.,  13., 118., 253., 253., 253., 127.,   0.,   0.,\n",
       "          0.,   0.,   0.,   0.,   0.,   0.],\n",
       "       [  0.,   0.,   0.,   0.,   0.,   0.,   0.,   0.,   0.,   0.,   0.,\n",
       "          0.,   0.,   0., 138., 252., 252., 252., 252., 234.,  17.,   0.,\n",
       "          0.,   0.,   0.,   0.,   0.,   0.],\n",
       "       [  0.,   0.,   0.,   0.,   0.,   0.,   0.,   0.,   0.,   0.,   0.,\n",
       "          0.,   0.,   0., 222., 252., 252., 195., 246., 253., 175.,   0.,\n",
       "          0.,   0.,   0.,   0.,   0.,   0.],\n",
       "       [  0.,   0.,   0.,   0.,   0.,   0.,   0.,   0.,   0.,   0.,   0.,\n",
       "          0.,   0.,   0., 253., 235.,  77.,   9., 188., 253., 223.,  25.,\n",
       "          0.,   0.,   0.,   0.,   0.,   0.],\n",
       "       [  0.,   0.,   0.,   0.,   0.,   0.,   0.,   0.,   0.,   0.,   0.,\n",
       "          0.,  43., 168., 253., 153.,   0.,   0., 116., 253., 252.,  69.,\n",
       "          0.,   0.,   0.,   0.,   0.,   0.],\n",
       "       [  0.,   0.,   0.,   0.,   0.,   0.,   0.,   0.,   0.,   0.,   0.,\n",
       "         38., 233., 253., 168.,   0.,   0.,   0., 116., 255., 253.,  69.,\n",
       "          0.,   0.,   0.,   0.,   0.,   0.],\n",
       "       [  0.,   0.,   0.,   0.,   0.,   0.,   0.,   0.,   0.,   0.,   0.,\n",
       "         70., 252., 231.,  42.,   0.,   0.,   0.,  95., 253., 252.,  69.,\n",
       "          0.,   0.,   0.,   0.,   0.,   0.],\n",
       "       [  0.,   0.,   0.,   0.,   0.,   0.,   0.,   0.,   0.,   0.,  13.,\n",
       "        172., 252., 106.,   0.,   0.,   0.,   0.,  32., 253., 252.,  69.,\n",
       "          0.,   0.,   0.,   0.,   0.,   0.],\n",
       "       [  0.,   0.,   0.,   0.,   0.,   0.,   0.,   0.,   0.,   0., 140.,\n",
       "        252., 218.,  14.,   0.,   0.,   0.,   0., 116., 253., 252.,  69.,\n",
       "          0.,   0.,   0.,   0.,   0.,   0.],\n",
       "       [  0.,   0.,   0.,   0.,   0.,   0.,   0.,   0.,   0.,  22., 244.,\n",
       "        252., 108.,   0.,   0.,   0.,   0.,   0., 116., 253., 252.,  69.,\n",
       "          0.,   0.,   0.,   0.,   0.,   0.],\n",
       "       [  0.,   0.,   0.,   0.,   0.,   0.,   0.,   0.,   0., 202., 253.,\n",
       "        184.,   0.,   0.,   0.,   0.,   0.,   0., 116., 255., 228.,  32.,\n",
       "          0.,   0.,   0.,   0.,   0.,   0.],\n",
       "       [  0.,   0.,   0.,   0.,   0.,   0.,   0.,   0.,  22., 253., 244.,\n",
       "         98.,   0.,   0.,   0.,   0.,   0.,  38., 193., 249., 117.,   0.,\n",
       "          0.,   0.,   0.,   0.,   0.,   0.],\n",
       "       [  0.,   0.,   0.,   0.,   0.,   0.,   0.,   0., 146., 253., 174.,\n",
       "          0.,   0.,   0.,   0.,   0.,  19., 220., 252., 199.,   0.,   0.,\n",
       "          0.,   0.,   0.,   0.,   0.,   0.],\n",
       "       [  0.,   0.,   0.,   0.,   0.,   0.,   0.,  76., 248., 253.,  92.,\n",
       "          0.,   0.,   0.,   0.,  17., 188., 252., 210.,  21.,   0.,   0.,\n",
       "          0.,   0.,   0.,   0.,   0.,   0.],\n",
       "       [  0.,   0.,   0.,   0.,   0.,   0.,   0.,  93., 252., 232.,   8.,\n",
       "          0.,   0.,   0.,  64., 193., 252., 252.,  85.,   0.,   0.,   0.,\n",
       "          0.,   0.,   0.,   0.,   0.,   0.],\n",
       "       [  0.,   0.,   0.,   0.,   0.,   0.,  38., 233., 253., 106.,   0.,\n",
       "          0.,  62., 138., 202., 253., 236.,  42.,   0.,   0.,   0.,   0.,\n",
       "          0.,   0.,   0.,   0.,   0.,   0.],\n",
       "       [  0.,   0.,   0.,   0.,   0.,   0., 142., 252., 252.,  22.,  30.,\n",
       "        130., 236., 252., 249., 185.,  25.,   0.,   0.,   0.,   0.,   0.,\n",
       "          0.,   0.,   0.,   0.,   0.,   0.],\n",
       "       [  0.,   0.,   0.,   0.,   0.,   0., 184., 252., 252., 216., 228.,\n",
       "        252., 252., 221., 115.,   0.,   0.,   0.,   0.,   0.,   0.,   0.,\n",
       "          0.,   0.,   0.,   0.,   0.,   0.],\n",
       "       [  0.,   0.,   0.,   0.,   0.,   0., 184., 252., 252., 253., 252.,\n",
       "        227., 119.,  25.,   0.,   0.,   0.,   0.,   0.,   0.,   0.,   0.,\n",
       "          0.,   0.,   0.,   0.,   0.,   0.],\n",
       "       [  0.,   0.,   0.,   0.,   0.,   0.,  48., 179., 252., 137., 137.,\n",
       "         48.,   0.,   0.,   0.,   0.,   0.,   0.,   0.,   0.,   0.,   0.,\n",
       "          0.,   0.,   0.,   0.,   0.,   0.],\n",
       "       [  0.,   0.,   0.,   0.,   0.,   0.,   0.,   0.,   0.,   0.,   0.,\n",
       "          0.,   0.,   0.,   0.,   0.,   0.,   0.,   0.,   0.,   0.,   0.,\n",
       "          0.,   0.,   0.,   0.,   0.,   0.],\n",
       "       [  0.,   0.,   0.,   0.,   0.,   0.,   0.,   0.,   0.,   0.,   0.,\n",
       "          0.,   0.,   0.,   0.,   0.,   0.,   0.,   0.,   0.,   0.,   0.,\n",
       "          0.,   0.,   0.,   0.,   0.,   0.],\n",
       "       [  0.,   0.,   0.,   0.,   0.,   0.,   0.,   0.,   0.,   0.,   0.,\n",
       "          0.,   0.,   0.,   0.,   0.,   0.,   0.,   0.,   0.,   0.,   0.,\n",
       "          0.,   0.,   0.,   0.,   0.,   0.],\n",
       "       [  0.,   0.,   0.,   0.,   0.,   0.,   0.,   0.,   0.,   0.,   0.,\n",
       "          0.,   0.,   0.,   0.,   0.,   0.,   0.,   0.,   0.,   0.,   0.,\n",
       "          0.,   0.,   0.,   0.,   0.,   0.]], dtype=float32)"
      ]
     },
     "execution_count": 468,
     "metadata": {},
     "output_type": "execute_result"
    }
   ],
   "source": [
    "random_get(0)"
   ]
  },
  {
   "cell_type": "markdown",
   "metadata": {},
   "source": [
    "### ランダムに画像を指定して持ってくる（何桁でも行けるように関数を書き換える）"
   ]
  },
  {
   "cell_type": "code",
   "execution_count": 300,
   "metadata": {},
   "outputs": [
    {
     "name": "stdout",
     "output_type": "stream",
     "text": [
      "4\n",
      "<class 'int'>\n",
      "['1', '3', '5', '7']\n",
      "<class 'list'>\n",
      "1\n",
      "3\n",
      "5\n",
      "list[1]\n",
      "range(0, 4)\n",
      "1\n",
      "3\n",
      "5\n",
      "7\n"
     ]
    }
   ],
   "source": [
    "s = 1357\n",
    "print(len(list(str(s))))\n",
    "print(type(len(list(str(s)))))\n",
    "\n",
    "print(list(str(s)))\n",
    "print(type(list(str(s))))\n",
    "\n",
    "print(list(str(s))[0])\n",
    "print(list(str(s))[1])\n",
    "print(list(str(s))[2])\n",
    "print(type(list(str(s)))[1])\n",
    "\n",
    "print(range(len(list(str(s)))))\n",
    "\n",
    "for i in range(len(list(str(s)))):\n",
    "    print(list(str(s))[i])"
   ]
  },
  {
   "cell_type": "code",
   "execution_count": 467,
   "metadata": {},
   "outputs": [],
   "source": [
    "def random_get(figure):\n",
    "    random_num = random.randrange(len(MNIST_dict[figure]))\n",
    "    random_get = MNIST_dict[figure][random_num].numpy()\n",
    "    random_get = random_get.reshape((28, 28))\n",
    "    return random_get*255 #255を乗算しないと、floatのままになり、後にくるインポート画像とconcatinate出来ない"
   ]
  },
  {
   "cell_type": "code",
   "execution_count": null,
   "metadata": {},
   "outputs": [],
   "source": [
    "def random_get2(figure):\n",
    "    for i in range(len(str(figure))):\n",
    "        figure_i_num = int(list(str(figure))[i])\n",
    "        random_num = random.randrange(len(MNIST_dict[figure_i_num]))\n",
    "        random_get = MNIST_dict[figure_i_num][random_num].numpy()\n",
    "        random_get = random_get.reshape((28, 28))\n",
    "        plt.imshow(random_get, cmap='gray')\n",
    "        print('生成した画像番号は',random_num)\n",
    "        break"
   ]
  },
  {
   "cell_type": "markdown",
   "metadata": {},
   "source": [
    "### 後にconcatすることを考えたら、関数の外で一の位から入力されていった方が良いだろうか"
   ]
  },
  {
   "cell_type": "code",
   "execution_count": null,
   "metadata": {},
   "outputs": [
    {
     "name": "stdout",
     "output_type": "stream",
     "text": [
      "[array([[  0.,   0.,   0.,   0.,   0.,   0.,   0.,   0.,   0.,   0.,   0.,\n",
      "          0.,   0.,   0.,   0.,   0.,   0.,   0.,   0.,   0.,   0.,   0.,\n",
      "          0.,   0.,   0.,   0.,   0.,   0.],\n",
      "       [  0.,   0.,   0.,   0.,   0.,   0.,   0.,   0.,   0.,   0.,   0.,\n",
      "          0.,   0.,   0.,   0.,   0.,   0.,   0.,   0.,   0.,   0.,   0.,\n",
      "          0.,   0.,   0.,   0.,   0.,   0.],\n",
      "       [  0.,   0.,   0.,   0.,   0.,   0.,   0.,   0.,   0.,   0.,   0.,\n",
      "          0.,   0.,   0.,   0.,   0.,   0.,   0.,   0.,   0.,   0.,   0.,\n",
      "          0.,   0.,   0.,   0.,   0.,   0.],\n",
      "       [  0.,   0.,   0.,   0.,   0.,   0.,   0.,   0.,   0.,   0.,   0.,\n",
      "          0.,   0.,   0.,   0.,   0.,   0.,   0.,   0.,   0.,   0.,   0.,\n",
      "          0.,   0.,   0.,   0.,   0.,   0.],\n",
      "       [  0.,   0.,   0.,   0.,   0.,   0.,   0.,   0.,   0.,   0.,   0.,\n",
      "          0.,   0.,   0.,   0.,   0.,   0.,   0.,   0.,   0.,   0.,   0.,\n",
      "          0.,   0.,   0.,   0.,   0.,   0.],\n",
      "       [  0.,   0.,   0.,   0.,   0.,   0.,   0.,   0.,   0.,   0.,   0.,\n",
      "          0.,   0.,   0.,   0.,   0.,   0.,  38., 255.,  61.,   0.,   0.,\n",
      "          0.,   0.,   0.,   0.,   0.,   0.],\n",
      "       [  0.,   0.,   0.,   0.,   0.,   0.,   0.,   0.,   0.,   0.,  37.,\n",
      "         90.,   0.,   0.,   0.,   0.,   0.,  90., 254.,  68.,   0.,   0.,\n",
      "          0.,   0.,   0.,   0.,   0.,   0.],\n",
      "       [  0.,   0.,   0.,   0.,   0.,   0.,   0.,   0.,   0.,   0., 133.,\n",
      "        220.,   0.,   0.,   0.,   0.,   0.,  90., 254.,  78.,   0.,   0.,\n",
      "          0.,   0.,   0.,   0.,   0.,   0.],\n",
      "       [  0.,   0.,   0.,   0.,   0.,   0.,   0.,   0.,   0.,   0., 246.,\n",
      "        237.,   0.,   0.,   0.,   0.,   0.,  90., 254.,  60.,   0.,   0.,\n",
      "          0.,   0.,   0.,   0.,   0.,   0.],\n",
      "       [  0.,   0.,   0.,   0.,   0.,   0.,   0.,   0.,   0.,   0., 246.,\n",
      "        167.,   0.,   0.,   0.,   0.,   0., 159., 241.,  22.,   0.,   0.,\n",
      "          0.,   0.,   0.,   0.,   0.,   0.],\n",
      "       [  0.,   0.,   0.,   0.,   0.,   0.,   0.,   0.,   0., 117., 253.,\n",
      "        133.,   0.,   0.,   0.,   0.,   0., 169., 235.,   5.,   0.,   0.,\n",
      "          0.,   0.,   0.,   0.,   0.,   0.],\n",
      "       [  0.,   0.,   0.,   0.,   0.,   0.,   0.,   0.,   0., 232., 251.,\n",
      "         27.,   0.,   0.,   0.,   0.,   0., 197., 206.,   0.,   0.,   0.,\n",
      "          0.,   0.,   0.,   0.,   0.,   0.],\n",
      "       [  0.,   0.,   0.,   0.,   0.,   0.,   0.,   0.,  29., 242., 219.,\n",
      "          0.,   0.,   0.,   0.,   0.,  54., 253., 152.,   0.,   0.,   0.,\n",
      "          0.,   0.,   0.,   0.,   0.,   0.],\n",
      "       [  0.,   0.,   0.,   0.,   0.,   0.,   0.,   0., 141., 254.,  74.,\n",
      "          0.,   0.,   0.,   0.,   0.,  77., 254., 119.,   0.,   0.,   0.,\n",
      "          0.,   0.,   0.,   0.,   0.,   0.],\n",
      "       [  0.,   0.,   0.,   0.,   0.,   0.,   0.,   0., 167., 254., 203.,\n",
      "        197., 122.,  83.,  33.,  11., 106., 254., 111.,   0.,   0.,   0.,\n",
      "          0.,   0.,   0.,   0.,   0.,   0.],\n",
      "       [  0.,   0.,   0.,   0.,   0.,   0.,   0.,   0., 138., 216., 254.,\n",
      "        254., 254., 254., 245., 224., 254., 254., 204.,   0.,   0.,   0.,\n",
      "          0.,   0.,   0.,   0.,   0.,   0.],\n",
      "       [  0.,   0.,   0.,   0.,   0.,   0.,   0.,   0.,   0.,  32., 250.,\n",
      "        254., 254., 254., 254., 254., 254., 203.,  40.,   0.,   0.,   0.,\n",
      "          0.,   0.,   0.,   0.,   0.,   0.],\n",
      "       [  0.,   0.,   0.,   0.,   0.,   0.,   0.,   0.,   0.,   0.,  17.,\n",
      "         97.,  97., 135., 177., 245., 254., 140.,   0.,   0.,   0.,   0.,\n",
      "          0.,   0.,   0.,   0.,   0.,   0.],\n",
      "       [  0.,   0.,   0.,   0.,   0.,   0.,   0.,   0.,   0.,   0.,   0.,\n",
      "          0.,   0.,   0.,   0., 149., 227.,  29.,   0.,   0.,   0.,   0.,\n",
      "          0.,   0.,   0.,   0.,   0.,   0.],\n",
      "       [  0.,   0.,   0.,   0.,   0.,   0.,   0.,   0.,   0.,   0.,   0.,\n",
      "          0.,   0.,   0.,  38., 246., 177.,   0.,   0.,   0.,   0.,   0.,\n",
      "          0.,   0.,   0.,   0.,   0.,   0.],\n",
      "       [  0.,   0.,   0.,   0.,   0.,   0.,   0.,   0.,   0.,   0.,   0.,\n",
      "          0.,   0.,   0.,  89., 254., 177.,   0.,   0.,   0.,   0.,   0.,\n",
      "          0.,   0.,   0.,   0.,   0.,   0.],\n",
      "       [  0.,   0.,   0.,   0.,   0.,   0.,   0.,   0.,   0.,   0.,   0.,\n",
      "          0.,   0.,   0., 199., 254., 163.,   0.,   0.,   0.,   0.,   0.,\n",
      "          0.,   0.,   0.,   0.,   0.,   0.],\n",
      "       [  0.,   0.,   0.,   0.,   0.,   0.,   0.,   0.,   0.,   0.,   0.,\n",
      "          0.,   0.,  22., 235., 239.,  50.,   0.,   0.,   0.,   0.,   0.,\n",
      "          0.,   0.,   0.,   0.,   0.,   0.],\n",
      "       [  0.,   0.,   0.,   0.,   0.,   0.,   0.,   0.,   0.,   0.,   0.,\n",
      "          0.,   0.,  41., 254., 167.,   0.,   0.,   0.,   0.,   0.,   0.,\n",
      "          0.,   0.,   0.,   0.,   0.,   0.],\n",
      "       [  0.,   0.,   0.,   0.,   0.,   0.,   0.,   0.,   0.,   0.,   0.,\n",
      "          0.,   0.,  41., 237.,  23.,   0.,   0.,   0.,   0.,   0.,   0.,\n",
      "          0.,   0.,   0.,   0.,   0.,   0.],\n",
      "       [  0.,   0.,   0.,   0.,   0.,   0.,   0.,   0.,   0.,   0.,   0.,\n",
      "          0.,   0.,   0.,   0.,   0.,   0.,   0.,   0.,   0.,   0.,   0.,\n",
      "          0.,   0.,   0.,   0.,   0.,   0.],\n",
      "       [  0.,   0.,   0.,   0.,   0.,   0.,   0.,   0.,   0.,   0.,   0.,\n",
      "          0.,   0.,   0.,   0.,   0.,   0.,   0.,   0.,   0.,   0.,   0.,\n",
      "          0.,   0.,   0.,   0.,   0.,   0.],\n",
      "       [  0.,   0.,   0.,   0.,   0.,   0.,   0.,   0.,   0.,   0.,   0.,\n",
      "          0.,   0.,   0.,   0.,   0.,   0.,   0.,   0.,   0.,   0.,   0.,\n",
      "          0.,   0.,   0.,   0.,   0.,   0.]], dtype=float32), array([[  0.,   0.,   0.,   0.,   0.,   0.,   0.,   0.,   0.,   0.,   0.,\n",
      "          0.,   0.,   0.,   0.,   0.,   0.,   0.,   0.,   0.,   0.,   0.,\n",
      "          0.,   0.,   0.,   0.,   0.,   0.],\n",
      "       [  0.,   0.,   0.,   0.,   0.,   0.,   0.,   0.,   0.,   0., 208.,\n",
      "        255.,  75.,   0.,   0.,   0.,   0.,   0.,   0.,   0.,   0.,   0.,\n",
      "          0.,   0.,   0.,   0.,   0.,   0.],\n",
      "       [  0.,   0.,   0.,   0.,   0.,   0.,   0.,   0.,   0.,   0., 207.,\n",
      "        253., 129.,   0.,   0.,   0.,   0.,   0.,   0.,   0.,   0.,   0.,\n",
      "          0.,   0.,   0.,   0.,   0.,   0.],\n",
      "       [  0.,   0.,   0.,   0.,   0.,   0.,   0.,   0.,   0.,   0., 207.,\n",
      "        253., 129.,   0.,   0.,   0.,   0.,   0.,   0.,   0.,   0.,   0.,\n",
      "          0.,   0.,   0.,   0.,   0.,   0.],\n",
      "       [  0.,   0.,   0.,   0.,   0.,   0.,   0.,   0.,   0.,   0., 207.,\n",
      "        253.,  41.,   0.,   0.,   0.,   0.,   0.,   0.,   0.,   0.,   0.,\n",
      "          0.,   0.,   0.,   0.,   0.,   0.],\n",
      "       [  0.,   0.,   0.,   0.,   0.,   0.,   0.,   0.,   0.,  59., 245.,\n",
      "        216.,   7.,   0.,   0.,   0.,   0.,   0.,   0.,   0.,   0.,   0.,\n",
      "          0.,   0.,   0.,   0.,   0.,   0.],\n",
      "       [  0.,   0.,   0.,   0.,   0.,   0.,   0.,   0.,   0.,  72., 253.,\n",
      "        147.,   0.,   0.,   0.,   0.,   0.,   0.,   0.,   0.,   0.,   0.,\n",
      "          0.,   0.,   0.,   0.,   0.,   0.],\n",
      "       [  0.,   0.,   0.,   0.,   0.,   0.,   0.,   0.,   0., 129., 253.,\n",
      "        147.,   0.,   0.,   0.,   0.,   0.,   0.,   0.,   0.,   0.,   0.,\n",
      "          0.,   0.,   0.,   0.,   0.,   0.],\n",
      "       [  0.,   0.,   0.,   0.,   0.,   0.,   0.,   0.,  30., 225., 253.,\n",
      "        147.,   0.,   0.,   0.,   0.,   0.,   0.,   0.,   0.,   0.,   0.,\n",
      "          0.,   0.,   0.,   0.,   0.,   0.],\n",
      "       [  0.,   0.,   0.,   0.,   0.,   0.,   0.,   0.,  54., 253., 253.,\n",
      "        147.,   0.,   0.,   0.,   0.,   0.,   0.,   0.,   0.,   0.,   0.,\n",
      "          0.,   0.,   0.,   0.,   0.,   0.],\n",
      "       [  0.,   0.,   0.,   0.,   0.,   0.,   0.,   0.,  54., 253., 253.,\n",
      "        120.,   0.,   0.,   0.,   0.,   0.,   0.,   0.,   0.,   0.,   0.,\n",
      "          0.,   0.,   0.,   0.,   0.,   0.],\n",
      "       [  0.,   0.,   0.,   0.,   0.,   0.,   0.,   0.,  54., 253., 253.,\n",
      "         29.,   0.,   0.,   0.,   0.,  24.,  78.,  78.,  38.,   0.,   0.,\n",
      "          0.,   0.,   0.,   0.,   0.,   0.],\n",
      "       [  0.,   0.,   0.,   0.,   0.,   0.,   0.,   0.,  54., 253., 253.,\n",
      "         29.,   0.,   0.,   0.,  95., 225., 253., 253., 233., 144.,  33.,\n",
      "          0.,   0.,   0.,   0.,   0.,   0.],\n",
      "       [  0.,   0.,   0.,   0.,   0.,   0.,   0.,   0.,  54., 253., 253.,\n",
      "         29.,   0.,  11., 187., 247., 253., 253., 253., 253., 253., 216.,\n",
      "         32.,   0.,   0.,   0.,   0.,   0.],\n",
      "       [  0.,   0.,   0.,   0.,   0.,   0.,   0.,   0., 169., 253., 253.,\n",
      "         29.,   0.,  85., 253., 253., 253., 243., 241., 241., 248., 253.,\n",
      "        186.,   0.,   0.,   0.,   0.,   0.],\n",
      "       [  0.,   0.,   0.,   0.,   0.,   0.,   0.,   0., 171., 253., 253.,\n",
      "         29.,   4., 207., 253., 205., 106.,  17.,   0.,   0.,  76., 243.,\n",
      "        226.,  45.,   0.,   0.,   0.,   0.],\n",
      "       [  0.,   0.,   0.,   0.,   0.,   0.,   0.,   0., 149., 253., 253.,\n",
      "        107.,   6., 253., 204.,  27.,   0.,   0.,   0.,   0.,   6., 182.,\n",
      "        253., 170.,   0.,   0.,   0.,   0.],\n",
      "       [  0.,   0.,   0.,   0.,   0.,   0.,   0.,   0.,  54., 253., 253.,\n",
      "        224., 185., 253., 190.,  20.,   0.,  55.,  66., 127., 192., 253.,\n",
      "        253., 140.,   0.,   0.,   0.,   0.],\n",
      "       [  0.,   0.,   0.,   0.,   0.,   0.,   0.,   0.,  11., 164., 253.,\n",
      "        253., 253., 253., 253., 217., 201., 245., 253., 253., 253., 253.,\n",
      "        201.,  11.,   0.,   0.,   0.,   0.],\n",
      "       [  0.,   0.,   0.,   0.,   0.,   0.,   0.,   0.,   0.,  10., 166.,\n",
      "        253., 253., 253., 253., 253., 253., 253., 253., 253., 253., 187.,\n",
      "         59.,   0.,   0.,   0.,   0.,   0.],\n",
      "       [  0.,   0.,   0.,   0.,   0.,   0.,   0.,   0.,   0.,   0.,   6.,\n",
      "         67., 193., 253., 253., 253., 253., 253., 201., 129.,  17.,   6.,\n",
      "          0.,   0.,   0.,   0.,   0.,   0.],\n",
      "       [  0.,   0.,   0.,   0.,   0.,   0.,   0.,   0.,   0.,   0.,   0.,\n",
      "          0.,   0.,   0.,   0.,   0.,   0.,   0.,   0.,   0.,   0.,   0.,\n",
      "          0.,   0.,   0.,   0.,   0.,   0.],\n",
      "       [  0.,   0.,   0.,   0.,   0.,   0.,   0.,   0.,   0.,   0.,   0.,\n",
      "          0.,   0.,   0.,   0.,   0.,   0.,   0.,   0.,   0.,   0.,   0.,\n",
      "          0.,   0.,   0.,   0.,   0.,   0.],\n",
      "       [  0.,   0.,   0.,   0.,   0.,   0.,   0.,   0.,   0.,   0.,   0.,\n",
      "          0.,   0.,   0.,   0.,   0.,   0.,   0.,   0.,   0.,   0.,   0.,\n",
      "          0.,   0.,   0.,   0.,   0.,   0.],\n",
      "       [  0.,   0.,   0.,   0.,   0.,   0.,   0.,   0.,   0.,   0.,   0.,\n",
      "          0.,   0.,   0.,   0.,   0.,   0.,   0.,   0.,   0.,   0.,   0.,\n",
      "          0.,   0.,   0.,   0.,   0.,   0.],\n",
      "       [  0.,   0.,   0.,   0.,   0.,   0.,   0.,   0.,   0.,   0.,   0.,\n",
      "          0.,   0.,   0.,   0.,   0.,   0.,   0.,   0.,   0.,   0.,   0.,\n",
      "          0.,   0.,   0.,   0.,   0.,   0.],\n",
      "       [  0.,   0.,   0.,   0.,   0.,   0.,   0.,   0.,   0.,   0.,   0.,\n",
      "          0.,   0.,   0.,   0.,   0.,   0.,   0.,   0.,   0.,   0.,   0.,\n",
      "          0.,   0.,   0.,   0.,   0.,   0.],\n",
      "       [  0.,   0.,   0.,   0.,   0.,   0.,   0.,   0.,   0.,   0.,   0.,\n",
      "          0.,   0.,   0.,   0.,   0.,   0.,   0.,   0.,   0.,   0.,   0.,\n",
      "          0.,   0.,   0.,   0.,   0.,   0.]], dtype=float32), array([[  0.,   0.,   0.,   0.,   0.,   0.,   0.,   0.,   0.,   0.,   0.,\n",
      "          0.,   0.,   0.,   0.,   0.,   0.,   0.,   0.,   0.,   0.,   0.,\n",
      "          0.,   0.,   0.,   0.,   0.,   0.],\n",
      "       [  0.,   0.,   0.,   0.,   0.,   0.,   0.,   0.,   0.,   0.,   0.,\n",
      "          0.,   0.,   0.,   0.,   0.,   0.,   0.,   0.,   0.,   0.,   0.,\n",
      "          0.,   0.,   0.,   0.,   0.,   0.],\n",
      "       [  0.,   0.,   0.,   0.,   0.,   0.,   0.,   0.,   0.,   0.,   0.,\n",
      "          0.,   0.,   0.,   0.,   0.,   0.,   0.,   0.,   0.,   0.,   0.,\n",
      "          0.,   0.,   0.,   0.,   0.,   0.],\n",
      "       [  0.,   0.,   0.,   0.,   0.,   0.,   0.,   0.,   0.,   0.,   0.,\n",
      "          0.,   0.,   0.,   0.,   0.,   0.,   0.,   0.,   0.,   0.,   0.,\n",
      "          0.,   0.,   0.,   0.,   0.,   0.],\n",
      "       [  0.,   0.,   0.,   0.,   0.,   0.,   0.,   0.,   0.,   0.,   0.,\n",
      "          0.,   0.,   0.,   0.,   0.,   0., 134., 218.,  50.,   0.,   0.,\n",
      "          0.,   0.,   0.,   0.,   0.,   0.],\n",
      "       [  0.,   0.,   0.,   0.,   0.,   0.,   0.,   0.,   0.,   0.,   0.,\n",
      "          0.,   0.,   0.,   0.,   0.,   0., 179., 253.,  23.,   0.,   0.,\n",
      "          0.,   0.,   0.,   0.,   0.,   0.],\n",
      "       [  0.,   0.,   0.,   0.,   0.,   0.,   0.,   0.,   0.,   0.,   0.,\n",
      "          0.,   0.,   0.,   0.,   0.,   0., 220., 212.,   0.,   0.,   0.,\n",
      "          0.,   0.,   0.,   0.,   0.,   0.],\n",
      "       [  0.,   0.,   0.,   0.,   0.,   0.,   0.,   0.,   0.,   0.,   0.,\n",
      "          0.,   0.,   0.,   0.,   0.,   1., 220., 185.,   0.,   0.,   0.,\n",
      "          0.,   0.,   0.,   0.,   0.,   0.],\n",
      "       [  0.,   0.,   0.,   0.,   0.,   0.,   0.,   0.,   0.,   0.,   0.,\n",
      "          0.,   0.,   0.,   0.,   0.,  66., 253., 185.,   0.,   0.,   0.,\n",
      "          0.,   0.,   0.,   0.,   0.,   0.],\n",
      "       [  0.,   0.,   0.,   0.,   0.,   0.,   0.,   0.,   0.,   0.,   0.,\n",
      "          0.,   0.,   0.,   0.,   0., 111., 253., 131.,   0.,   0.,   0.,\n",
      "          0.,   0.,   0.,   0.,   0.,   0.],\n",
      "       [  0.,   0.,   0.,   0.,   0.,   0.,   0.,   0.,   0.,  29.,   8.,\n",
      "          0.,   0.,   0.,   0.,   0., 169., 252.,  47.,   0.,   0.,   0.,\n",
      "          0.,   0.,   0.,   0.,   0.,   0.],\n",
      "       [  0.,   0.,   0.,   0.,   0.,   0.,   0.,   0.,   0., 188., 172.,\n",
      "          0.,   0.,   0.,   0.,   0., 187., 236.,   0.,   0.,   0.,   0.,\n",
      "          0.,   0.,   0.,   0.,   0.,   0.],\n",
      "       [  0.,   0.,   0.,   0.,   0.,   0.,   0.,   0.,  25., 245., 186.,\n",
      "          0.,   0.,   0.,   0.,  24., 245., 173.,   0.,   0.,   0.,   0.,\n",
      "          0.,   0.,   0.,   0.,   0.,   0.],\n",
      "       [  0.,   0.,   0.,   0.,   0.,   0.,   0.,   0., 151., 253., 149.,\n",
      "          0.,   0.,   0.,   0., 115., 253.,  74.,   0.,   0.,   0.,   0.,\n",
      "          0.,   0.,   0.,   0.,   0.,   0.],\n",
      "       [  0.,   0.,   0.,   0.,   0.,   0.,   1.,  95., 251., 216.,   7.,\n",
      "          0.,   0.,   0.,   0., 141., 253.,  34.,   0.,   0.,   0.,   0.,\n",
      "          0.,   0.,   0.,   0.,   0.,   0.],\n",
      "       [  0.,   0.,   0.,   0.,   0.,   0.,  55., 253., 253., 236., 130.,\n",
      "         37.,  19.,  64.,  45., 222., 208.,   7.,   0.,   0.,   0.,   0.,\n",
      "          0.,   0.,   0.,   0.,   0.,   0.],\n",
      "       [  0.,   0.,   0.,   0.,   0.,   0.,  19., 135., 135., 135., 190.,\n",
      "        204., 203., 118.,  82., 255., 103.,   0.,   0.,   0.,   0.,   0.,\n",
      "          0.,   0.,   0.,   0.,   0.,   0.],\n",
      "       [  0.,   0.,   0.,   0.,   0.,   0.,   0.,   0.,   0.,   0.,   0.,\n",
      "          0.,   0.,   3., 169., 254.,  57.,   0.,   0.,   0.,   0.,   0.,\n",
      "          0.,   0.,   0.,   0.,   0.,   0.],\n",
      "       [  0.,   0.,   0.,   0.,   0.,   0.,   0.,   0.,   0.,   0.,   0.,\n",
      "          0.,   0.,  17., 253., 187.,   3.,   0.,   0.,   0.,   0.,   0.,\n",
      "          0.,   0.,   0.,   0.,   0.,   0.],\n",
      "       [  0.,   0.,   0.,   0.,   0.,   0.,   0.,   0.,   0.,   0.,   0.,\n",
      "          0.,   0.,  90., 253., 118.,   0.,   0.,   0.,   0.,   0.,   0.,\n",
      "          0.,   0.,   0.,   0.,   0.,   0.],\n",
      "       [  0.,   0.,   0.,   0.,   0.,   0.,   0.,   0.,   0.,   0.,   0.,\n",
      "          0.,   0., 202., 222.,  19.,   0.,   0.,   0.,   0.,   0.,   0.,\n",
      "          0.,   0.,   0.,   0.,   0.,   0.],\n",
      "       [  0.,   0.,   0.,   0.,   0.,   0.,   0.,   0.,   0.,   0.,   0.,\n",
      "          0.,  23., 242., 149.,   0.,   0.,   0.,   0.,   0.,   0.,   0.,\n",
      "          0.,   0.,   0.,   0.,   0.,   0.],\n",
      "       [  0.,   0.,   0.,   0.,   0.,   0.,   0.,   0.,   0.,   0.,   0.,\n",
      "          0., 111., 253., 119.,  64.,   0.,   0.,   0.,   0.,   0.,   0.,\n",
      "          0.,   0.,   0.,   0.,   0.,   0.],\n",
      "       [  0.,   0.,   0.,   0.,   0.,   0.,   0.,   0.,   0.,   0.,   0.,\n",
      "          0.,  57., 244., 235.,  82.,   0.,   0.,   0.,   0.,   0.,   0.,\n",
      "          0.,   0.,   0.,   0.,   0.,   0.],\n",
      "       [  0.,   0.,   0.,   0.,   0.,   0.,   0.,   0.,   0.,   0.,   0.,\n",
      "          0.,   0.,   0.,   0.,   0.,   0.,   0.,   0.,   0.,   0.,   0.,\n",
      "          0.,   0.,   0.,   0.,   0.,   0.],\n",
      "       [  0.,   0.,   0.,   0.,   0.,   0.,   0.,   0.,   0.,   0.,   0.,\n",
      "          0.,   0.,   0.,   0.,   0.,   0.,   0.,   0.,   0.,   0.,   0.,\n",
      "          0.,   0.,   0.,   0.,   0.,   0.],\n",
      "       [  0.,   0.,   0.,   0.,   0.,   0.,   0.,   0.,   0.,   0.,   0.,\n",
      "          0.,   0.,   0.,   0.,   0.,   0.,   0.,   0.,   0.,   0.,   0.,\n",
      "          0.,   0.,   0.,   0.,   0.,   0.],\n",
      "       [  0.,   0.,   0.,   0.,   0.,   0.,   0.,   0.,   0.,   0.,   0.,\n",
      "          0.,   0.,   0.,   0.,   0.,   0.,   0.,   0.,   0.,   0.,   0.,\n",
      "          0.,   0.,   0.,   0.,   0.,   0.]], dtype=float32), array([[  0.,   0.,   0.,   0.,   0.,   0.,   0.,   0.,   0.,   0.,   0.,\n",
      "          0.,   0.,   0.,   0.,   0.,   0.,   0.,   0.,   0.,   0.,   0.,\n",
      "          0.,   0.,   0.,   0.,   0.,   0.],\n",
      "       [  0.,   0.,   0.,   0.,   0.,   0.,   0.,   0.,   0.,   0.,   0.,\n",
      "          0.,   0.,   0.,   0.,   0.,   0.,   0.,   0.,   0.,   0.,   0.,\n",
      "          0.,   0.,   0.,   0.,   0.,   0.],\n",
      "       [  0.,   0.,   0.,   0.,   0.,   0.,   0.,   0.,   0.,   0.,   0.,\n",
      "          0.,   0.,   0.,   0.,   0.,   0.,   0.,   0.,   0.,   0.,   0.,\n",
      "          0.,   0.,   0.,   0.,   0.,   0.],\n",
      "       [  0.,   0.,   0.,   0.,   0.,   0.,   0.,   0.,   0.,   0.,   0.,\n",
      "          0.,   0.,   0.,   0.,   0.,   0.,   0.,   0.,   0.,   0.,   0.,\n",
      "          0.,   0.,   0.,   0.,   0.,   0.],\n",
      "       [  0.,   0.,   0.,   0.,   0.,   0.,   0.,   0.,   0.,   0.,   0.,\n",
      "          0.,   0.,   0.,   0.,   0.,   0.,   0.,   0.,   0.,   0.,   0.,\n",
      "          0.,   0.,   0.,   0.,   0.,   0.],\n",
      "       [  0.,   0.,   0.,   0.,   0.,   0.,   0.,   0.,   0.,   0.,   0.,\n",
      "          0.,   0.,   0.,   0.,   0.,   0.,   0.,   0.,   0.,   0.,   0.,\n",
      "          0.,   0.,   0.,   0.,   0.,   0.],\n",
      "       [  0.,   0.,   0.,   0.,   0.,   0.,   0.,   0.,   0.,   0.,   0.,\n",
      "          0.,   0.,   0.,   0.,   0.,   0.,   0.,   0.,   0.,   0.,   0.,\n",
      "          0.,   0.,   0.,   0.,   0.,   0.],\n",
      "       [  0.,   0.,   0.,   0.,   0.,   0.,   0.,   0.,   0.,   0.,   0.,\n",
      "          0.,  21.,  75., 155., 195., 155.,  52.,   0.,   0.,   0.,   0.,\n",
      "          0.,   0.,   0.,   0.,   0.,   0.],\n",
      "       [  0.,   0.,   0.,   0.,   0.,   0.,   0.,   0.,   0.,   2.,  11.,\n",
      "        121., 227., 253., 245., 252., 249., 225., 151.,   3.,   0.,   0.,\n",
      "          0.,   0.,   0.,   0.,   0.,   0.],\n",
      "       [  0.,   0.,   0.,   0.,   0.,   0.,   0.,   0.,  75., 176., 254.,\n",
      "        229., 204., 152.,   2.,  69.,  41., 156., 247., 100.,   0.,   0.,\n",
      "          0.,   0.,   0.,   0.,   0.,   0.],\n",
      "       [  0.,   0.,   0.,   0.,   0.,   0.,   0.,  65., 207., 230., 134.,\n",
      "         27.,   8.,   0.,   0.,   0.,   0.,   0., 131., 244.,  17.,   0.,\n",
      "          0.,   0.,   0.,   0.,   0.,   0.],\n",
      "       [  0.,   0.,   0.,   0.,   0.,   0.,  45., 238.,  88.,  32.,   0.,\n",
      "          0.,   0.,   0.,   0.,   0.,   0.,   0.,   8., 203.,  30.,  19.,\n",
      "          0.,   0.,   0.,   0.,   0.,   0.],\n",
      "       [  0.,   0.,   0.,   0.,   0.,   0., 156., 183.,   0.,   0.,   0.,\n",
      "          0.,   0.,   0.,   0.,   0.,   0.,   0.,   0.,  18., 139.,  65.,\n",
      "          0.,   0.,   0.,   0.,   0.,   0.],\n",
      "       [  0.,   0.,   0.,   0.,   0.,   0., 165., 134.,   0.,   0.,   0.,\n",
      "          0.,   0.,   0.,   0.,   0.,   0.,   0.,   0.,  93., 249.,  65.,\n",
      "          0.,   0.,   0.,   0.,   0.,   0.],\n",
      "       [  0.,   0.,   0.,   0.,   0.,   0.,  71., 200.,  60.,   0.,   0.,\n",
      "          0.,   0.,   0.,   0.,   0.,   0.,  27., 178., 250., 221.,   4.,\n",
      "          0.,   0.,   0.,   0.,   0.,   0.],\n",
      "       [  0.,   0.,   0.,   0.,   0.,   0.,  66., 254., 237., 105.,  26.,\n",
      "          0.,   0.,   0.,  38.,  23., 180., 235., 235., 121., 142.,   0.,\n",
      "          0.,   0.,   0.,   0.,   0.,   0.],\n",
      "       [  0.,   0.,   0.,   0.,   0.,   0.,  27., 195., 254., 254., 252.,\n",
      "        211., 250., 171., 252., 251., 212., 137.,  55.,  93.,  49.,   0.,\n",
      "          0.,   0.,   0.,   0.,   0.,   0.],\n",
      "       [  0.,   0.,   0.,   0.,   0.,   0.,   0.,  12., 149., 200., 253.,\n",
      "        254., 253., 254., 248., 126.,   8.,   0.,  11., 195.,  16.,   0.,\n",
      "          0.,   0.,   0.,   0.,   0.,   0.],\n",
      "       [  0.,   0.,   0.,   0.,   0.,   0.,   0.,   0.,   0.,   0.,  69.,\n",
      "         95.,  58.,  76.,   0.,   0.,   0.,   0.,  49., 236.,  15.,   0.,\n",
      "          0.,   0.,   0.,   0.,   0.,   0.],\n",
      "       [  0.,   0.,   0.,   0.,   0.,   0.,   0.,   0.,   0.,   0.,   0.,\n",
      "          0.,   0.,   0.,   0.,   0.,   0.,   0., 126., 174.,   0.,   0.,\n",
      "          0.,   0.,   0.,   0.,   0.,   0.],\n",
      "       [  0.,   0.,   0.,   0.,   0.,   0.,   0.,   0.,   0.,   0.,   0.,\n",
      "          0.,   0.,   0.,   0.,   0.,   0.,   0., 126., 174.,   0.,   0.,\n",
      "          0.,   0.,   0.,   0.,   0.,   0.],\n",
      "       [  0.,   0.,   0.,   0.,   0.,   0.,   0.,   0.,   0.,   0.,   0.,\n",
      "          0.,   0.,   0.,   0.,   0.,   0.,   0., 126., 174.,   0.,   0.,\n",
      "          0.,   0.,   0.,   0.,   0.,   0.],\n",
      "       [  0.,   0.,   0.,   0.,   0.,   0.,   0.,   0.,   0.,   0.,   0.,\n",
      "          0.,   0.,   0.,   0.,   0.,   0.,   0., 126., 174.,   0.,   0.,\n",
      "          0.,   0.,   0.,   0.,   0.,   0.],\n",
      "       [  0.,   0.,   0.,   0.,   0.,   0.,   0.,   0.,   0.,   0.,   0.,\n",
      "          0.,   0.,   0.,   0.,   0.,   0.,   0., 126., 174.,   0.,   0.,\n",
      "          0.,   0.,   0.,   0.,   0.,   0.],\n",
      "       [  0.,   0.,   0.,   0.,   0.,   0.,   0.,   0.,   0.,   0.,   0.,\n",
      "          0.,   0.,   0.,   0.,   0.,   0.,   0.,  90., 100.,   0.,   0.,\n",
      "          0.,   0.,   0.,   0.,   0.,   0.],\n",
      "       [  0.,   0.,   0.,   0.,   0.,   0.,   0.,   0.,   0.,   0.,   0.,\n",
      "          0.,   0.,   0.,   0.,   0.,   0.,   0., 122.,  75.,   0.,   0.,\n",
      "          0.,   0.,   0.,   0.,   0.,   0.],\n",
      "       [  0.,   0.,   0.,   0.,   0.,   0.,   0.,   0.,   0.,   0.,   0.,\n",
      "          0.,   0.,   0.,   0.,   0.,   0.,   0.,  77.,  85.,   0.,   0.,\n",
      "          0.,   0.,   0.,   0.,   0.,   0.],\n",
      "       [  0.,   0.,   0.,   0.,   0.,   0.,   0.,   0.,   0.,   0.,   0.,\n",
      "          0.,   0.,   0.,   0.,   0.,   0.,   0.,   0.,   0.,   0.,   0.,\n",
      "          0.,   0.,   0.,   0.,   0.,   0.]], dtype=float32)]\n"
     ]
    },
    {
     "data": {
      "text/plain": [
       "True"
      ]
     },
     "metadata": {},
     "output_type": "display_data"
    }
   ],
   "source": [
    "figure = 4649\n",
    "train_img_list = []\n",
    "\n",
    "for i in range(len(str(figure))):\n",
    "    figure_i_num = int(list(str(figure))[i])\n",
    "    img = random_get(figure_i_num)\n",
    "    train_img_list.append(img)\n",
    "\n",
    "train_img_list = cv2.hconcat(train_img_list)\n",
    "cv2.imwrite('train_img/trainX.jpg', train_img_list)"
   ]
  },
  {
   "cell_type": "markdown",
   "metadata": {},
   "source": [
    "### ようやくX,Yを何桁にしても画像がひっつくようになったので、記号も付けられるようにしていく。"
   ]
  },
  {
   "cell_type": "code",
   "execution_count": null,
   "metadata": {},
   "outputs": [
    {
     "name": "stdout",
     "output_type": "stream",
     "text": [
      "4\n"
     ]
    }
   ],
   "source": [
    "X_digit = 2\n",
    "Y_digit = 2\n",
    "result_digit = len(str(int('9'*X_digit) * int('9'*X_digit)))\n",
    "print(result_digit)\n",
    "\n",
    "multi_img = Image.open('img/multiplication28pix_small.jpg')\n",
    "multi_img = np.array(multi_img)\n",
    "print(multi_img.size)\n",
    "print(multi_img.shape)\n",
    "\n",
    "add_img = Image.open('img/addition28pix_small.jpg')\n",
    "add_img = np.array(add_img)\n",
    "print(add_img.size)\n",
    "print(add_img.shape)\n",
    "\n",
    "equal_img = Image.open('img/equal28pix_small.jpg')\n",
    "equal_img = np.array(equal_img)\n",
    "print(equal_img.size)\n",
    "print(equal_img.shape)\n",
    "\n",
    "\n",
    "X = random.randrange(10**(X_digit-1),10**X_digit) #指定の桁数の中で乱数が出る\n",
    "Y = random.randrange(10**(Y_digit-1),10**Y_digit) #指定の桁数の中で乱数が出る\n",
    "Z = str(X*Y).zfill(result_digit)\n",
    "\n",
    "print(X,Y,Z)\n",
    "print(type(X),type(Y),type(X))\n",
    "print('Xの桁数は',len(str(X)),\\\n",
    "      'Yの桁数は',len(str(Y)),\\\n",
    "      'Zの桁数は',len(str(Z)))\n",
    "\n",
    "\n"
   ]
  },
  {
   "cell_type": "markdown",
   "metadata": {},
   "source": [
    "### どうも、画像としてインポートしたデータと、MNISTだと次元数とか厳密に異なってしまってうまく行っていない感じ。"
   ]
  },
  {
   "cell_type": "code",
   "execution_count": null,
   "metadata": {},
   "outputs": [
    {
     "ename": "error",
     "evalue": "OpenCV(4.5.3) /private/var/folders/24/8k48jl6d249_n_qfxwsl6xvm0000gn/T/pip-req-build-8g_88acj/opencv/modules/core/src/matrix_operations.cpp:67: error: (-215:Assertion failed) src[i].dims <= 2 && src[i].rows == src[0].rows && src[i].type() == src[0].type() in function 'hconcat'\n",
     "output_type": "error",
     "traceback": [
      "\u001b[0;31m---------------------------------------------------------------------------\u001b[0m\n",
      "\u001b[0;31merror\u001b[0m                                     Traceback (most recent call last)\n",
      "\u001b[0;32m/var/folders/cs/y7bb9xyj3291t5pd4_0j9kp80000gn/T/ipykernel_7644/1500508036.py\u001b[0m in \u001b[0;36m<module>\u001b[0;34m\u001b[0m\n",
      "\u001b[1;32m     17\u001b[0m     \u001b[0mtrain_img_list\u001b[0m\u001b[0;34m.\u001b[0m\u001b[0mappend\u001b[0m\u001b[0;34m(\u001b[0m\u001b[0mimg\u001b[0m\u001b[0;34m)\u001b[0m\u001b[0;34m\u001b[0m\u001b[0;34m\u001b[0m\u001b[0m\n",
      "\u001b[1;32m     18\u001b[0m \u001b[0;34m\u001b[0m\u001b[0m\n",
      "\u001b[0;32m---> 19\u001b[0;31m \u001b[0mtrain_img_list\u001b[0m \u001b[0;34m=\u001b[0m \u001b[0mcv2\u001b[0m\u001b[0;34m.\u001b[0m\u001b[0mhconcat\u001b[0m\u001b[0;34m(\u001b[0m\u001b[0mtrain_img_list\u001b[0m\u001b[0;34m)\u001b[0m\u001b[0;34m\u001b[0m\u001b[0;34m\u001b[0m\u001b[0m\n",
      "\u001b[0m\u001b[1;32m     20\u001b[0m \u001b[0mcv2\u001b[0m\u001b[0;34m.\u001b[0m\u001b[0mimwrite\u001b[0m\u001b[0;34m(\u001b[0m\u001b[0;34m'train_img/trainX.jpg'\u001b[0m\u001b[0;34m,\u001b[0m \u001b[0mtrain_img_list\u001b[0m\u001b[0;34m)\u001b[0m\u001b[0;34m\u001b[0m\u001b[0;34m\u001b[0m\u001b[0m\n",
      "\n",
      "\u001b[0;31merror\u001b[0m: OpenCV(4.5.3) /private/var/folders/24/8k48jl6d249_n_qfxwsl6xvm0000gn/T/pip-req-build-8g_88acj/opencv/modules/core/src/matrix_operations.cpp:67: error: (-215:Assertion failed) src[i].dims <= 2 && src[i].rows == src[0].rows && src[i].type() == src[0].type() in function 'hconcat'\n"
     ]
    }
   ],
   "source": [
    "train_img_list = []\n",
    "for i in range(len(str(X))):\n",
    "    figure_X_num = int(list(str(X))[i])\n",
    "    img = random_get(figure_X_num)\n",
    "    train_img_list.append(img)\n",
    "train_img_list.append(multi_img)\n",
    "\n",
    "for i in range(len(str(Y))):\n",
    "    figure_Y_num = int(list(str(Y))[i])\n",
    "    img = random_get(figure_Y_num)\n",
    "    train_img_list.append(img)\n",
    "train_img_list.append(add_img)\n",
    "\n",
    "for i in range(len(str(Z))):\n",
    "    figure_Z_num = int(list(str(Z))[i])\n",
    "    img = random_get(figure_Z_num)\n",
    "    train_img_list.append(img)\n",
    "\n",
    "train_img_list = cv2.hconcat(train_img_list)\n",
    "cv2.imwrite('train_img/trainX.jpg', train_img_list)\n",
    "\n",
    "\n",
    "###\n",
    "# ---------------------------------------------------------------------------\n",
    "# error                                     Traceback (most recent call last)\n",
    "# /var/folders/cs/y7bb9xyj3291t5pd4_0j9kp80000gn/T/ipykernel_7644/1500508036.py in <module>\n",
    "#      17     train_img_list.append(img)\n",
    "#      18 \n",
    "# ---> 19 train_img_list = cv2.hconcat(train_img_list)\n",
    "#      20 cv2.imwrite('train_img/trainX.jpg', train_img_list)\n",
    "\n",
    "# error: OpenCV(4.5.3) /private/var/folders/24/8k48jl6d249_n_qfxwsl6xvm0000gn/T/pip-req-build-8g_88acj/opencv/modules/core/src/matrix_operations.cpp:67: error: (-215:Assertion failed) src[i].dims <= 2 && src[i].rows == src[0].rows && src[i].type() == src[0].type() in function 'hconcat'\n",
    "###\n"
   ]
  },
  {
   "cell_type": "markdown",
   "metadata": {},
   "source": [
    "### 調査する"
   ]
  },
  {
   "cell_type": "code",
   "execution_count": null,
   "metadata": {},
   "outputs": [
    {
     "name": "stdout",
     "output_type": "stream",
     "text": [
      "次元数 2\n",
      "shape (28, 28)\n",
      "データ [array([[  0,   0,   0,   0,   0,   0,   0,   0,   0,   0,   0,   0,   0,\n",
      "          0,   0,   0,   0,   0,   0,   0,   0,   0,   0,   0,   0,   0,\n",
      "          0,   0],\n",
      "       [  0,   0,   0,   0,   0,   0,   0,   0,   0,   0,   0,   0,   0,\n",
      "          0,   0,   0,   0,   0,   0,   0,   0,   0,   0,   0,   0,   0,\n",
      "          0,   0],\n",
      "       [  0,   0,   0,   0,   0,   0,   0,   0,   0,   0,   0,   0,   0,\n",
      "          0,   0,   0,   0,   0,   0,   0,   0,   0,   0,   0,   0,   0,\n",
      "          0,   0],\n",
      "       [  0,   0,   0,   0,   0,   0,   0,   0,   0,   0,   0,   0,   0,\n",
      "          0,   0,   0,   0,   0,   0,   0,   0,   0,   0,   0,   0,   0,\n",
      "          0,   0],\n",
      "       [  0,   0,   0,   0,   0,   0,   0,   0,   0,   0,   0,   0,   0,\n",
      "          0,   0,   0,   0,   0,   0,   0,   0,   0,   0,   0,   0,   0,\n",
      "          0,   0],\n",
      "       [  0,   0,   0,   0,   0,   0,   0,   0,   0,   0,   0,   0,   0,\n",
      "         64, 255, 191,   0,   0,   0,   0,   0,   0,   0,   0,   0,   0,\n",
      "          0,   0],\n",
      "       [  0,   0,   0,   0,   0,   0,   0,   0,   0,   0,   0,   0,   0,\n",
      "        255, 255, 255,   0,   0,   0,   0,   0,   0,   0,   0,   0,   0,\n",
      "          0,   0],\n",
      "       [  0,   0,   0,   0,   0,   0,   0,   0,   0,   0,   0,   0,   0,\n",
      "        191, 255, 255, 191,   0,   0,   0,   0,   0,   0,   0,   0,   0,\n",
      "          0,   0],\n",
      "       [  0,   0,   0,   0,   0,   0,   0,   0,   0,   0,   0,   0,   0,\n",
      "         64, 255, 255, 255,  64,   0,   0,   0,   0,   0,   0,   0,   0,\n",
      "          0,   0],\n",
      "       [  0,   0,   0,   0,   0,   0,   0,   0,   0,   0,   0,   0,   0,\n",
      "          0, 255, 255, 255, 128,   0,   0,   0,   0,   0,   0,   0,   0,\n",
      "          0,   0],\n",
      "       [  0,   0,   0,   0,   0,   0,   0,   0,   0,   0,   0,   0,   0,\n",
      "        128, 255, 255, 255, 128,   0,   0,   0,   0,   0,   0,   0,   0,\n",
      "          0,   0],\n",
      "       [  0,   0,   0,   0,   0,   0,   0,   0,   0,   0,   0,   0,   0,\n",
      "        191, 255, 255, 255,   0,   0,   0,   0,   0,   0,   0,   0,   0,\n",
      "          0,   0],\n",
      "       [  0,   0,   0,   0,   0,   0,   0,   0,   0,   0,   0,   0,   0,\n",
      "        255, 255, 255, 255,   0,   0,   0,   0,   0,   0,   0,   0,   0,\n",
      "          0,   0],\n",
      "       [  0,   0,   0,   0,   0,   0,   0,   0,   0,   0,   0,   0,   0,\n",
      "        255, 255, 255, 191,   0,   0,   0,   0,   0,   0,   0,   0,   0,\n",
      "          0,   0],\n",
      "       [  0,   0,   0,   0,   0,   0,   0,   0,   0,   0,   0,   0,   0,\n",
      "        255, 255, 255, 128,   0,   0,   0,   0,   0,   0,   0,   0,   0,\n",
      "          0,   0],\n",
      "       [  0,   0,   0,   0,   0,   0,   0,   0,   0,   0,   0,   0,   0,\n",
      "        255, 255, 255, 191,   0,   0,   0,   0,   0,   0,   0,   0,   0,\n",
      "          0,   0],\n",
      "       [  0,   0,   0,   0,   0,   0,   0,   0,   0,   0,   0,   0,   0,\n",
      "        255, 255, 255,  64,   0,   0,   0,   0,   0,   0,   0,   0,   0,\n",
      "          0,   0],\n",
      "       [  0,   0,   0,   0,   0,   0,   0,   0,   0,   0,   0,   0, 128,\n",
      "        255, 255, 255,   0,   0,   0,   0,   0,   0,   0,   0,   0,   0,\n",
      "          0,   0],\n",
      "       [  0,   0,   0,   0,   0,   0,   0,   0,   0,   0,   0,   0, 191,\n",
      "        255, 255, 255,   0,   0,   0,   0,   0,   0,   0,   0,   0,   0,\n",
      "          0,   0],\n",
      "       [  0,   0,   0,   0,   0,   0,   0,   0,   0,   0,   0,   0, 255,\n",
      "        255, 255, 255,   0,   0,   0,   0,   0,   0,   0,   0,   0,   0,\n",
      "          0,   0],\n",
      "       [  0,   0,   0,   0,   0,   0,   0,   0,   0,   0,   0,   0, 128,\n",
      "        255, 255, 128,   0,   0,   0,   0,   0,   0,   0,   0,   0,   0,\n",
      "          0,   0],\n",
      "       [  0,   0,   0,   0,   0,   0,   0,   0,   0,   0,   0,   0,  64,\n",
      "        255, 255,   0,   0,   0,   0,   0,   0,   0,   0,   0,   0,   0,\n",
      "          0,   0],\n",
      "       [  0,   0,   0,   0,   0,   0,   0,   0,   0,   0,   0,   0, 128,\n",
      "        255, 255,  64,   0,   0,   0,   0,   0,   0,   0,   0,   0,   0,\n",
      "          0,   0],\n",
      "       [  0,   0,   0,   0,   0,   0,   0,   0,   0,   0,   0,   0,   0,\n",
      "        255, 255,   0,   0,   0,   0,   0,   0,   0,   0,   0,   0,   0,\n",
      "          0,   0],\n",
      "       [  0,   0,   0,   0,   0,   0,   0,   0,   0,   0,   0,   0,   0,\n",
      "        191,  64,   0,   0,   0,   0,   0,   0,   0,   0,   0,   0,   0,\n",
      "          0,   0],\n",
      "       [  0,   0,   0,   0,   0,   0,   0,   0,   0,   0,   0,   0,   0,\n",
      "          0,   0,   0,   0,   0,   0,   0,   0,   0,   0,   0,   0,   0,\n",
      "          0,   0],\n",
      "       [  0,   0,   0,   0,   0,   0,   0,   0,   0,   0,   0,   0,   0,\n",
      "          0,   0,   0,   0,   0,   0,   0,   0,   0,   0,   0,   0,   0,\n",
      "          0,   0],\n",
      "       [  0,   0,   0,   0,   0,   0,   0,   0,   0,   0,   0,   0,   0,\n",
      "          0,   0,   0,   0,   0,   0,   0,   0,   0,   0,   0,   0,   0,\n",
      "          0,   0]], dtype=uint8)]\n",
      "タイプ <class 'list'>\n",
      "データ [[  0   5   0   3   2   5   2   0   1   0   0   0   2   4   0   0   8   0\n",
      "    0   1   0   0   0   0   1   1   1   1]\n",
      " [  0   8   0   0   0   5   3   3   5   3   0   0   3   7   4   0   4   5\n",
      "    0   3   0   1  12   0   1   1   1   1]\n",
      " [  0   0   0   0   2   4   0   0   1   0   0   0   0   2   7   4   0  12\n",
      "    0   1   0   0   1   1   1   1   1   1]\n",
      " [  1   0   0   0   7   8   0   9   2   0   4   2   0   0   3   2   5   0\n",
      "    0   1   6   7   6   9   1   1   1   1]\n",
      " [  4   0   3   7   2   0   0   0   3   0   6  14   2   0   0   0  10   0\n",
      "   13   0   0   0   0   0   1   1   1   1]\n",
      " [  0   0   0   6   0   0  57  81  22   0   0   6   4   0   0   0   0   6\n",
      "    0   0  59  89  11   0   1   1   1   1]\n",
      " [  4   0   0   0   0  50 199 244 129  38   0   0   0   0   3   0   2   3\n",
      "    0  66 221 249 122   9   1   1   1   1]\n",
      " [  0   6   1   9   0  69 238 255 255 129  22   3   2   1   5   1   0   0\n",
      "   60 214 255 249 176   0   1   1   1   1]\n",
      " [  2   1   0   4   4   0  77 238 253 255 150   8   3   1   3   0   0  57\n",
      "  227 255 255 172   0   2   1   1   1   1]\n",
      " [  0   0   0   6   9   0   4  77 243 247 255 148   0  13   0   4  55 223\n",
      "  246 250 157  14  13   0   1   1   1   1]\n",
      " [  0   0   0   0   6   1   0   0  74 238 255 254 156   0   9  44 212 253\n",
      "  255 161   9   0   6   4   1   1   1   1]\n",
      " [  3   3   1   0   0   6   9   4   0  67 242 250 255 160  52 226 255 247\n",
      "  152  16   0   5   0  12   1   1   1   1]\n",
      " [  0   1   6   4   0   0   5   4   0   6  80 232 255 249 234 255 246 163\n",
      "   13   0  16   2   0   0   1   1   1   1]\n",
      " [  0   0   0   6   1   0   0   0   0   0   0  89 212 255 255 243 175   0\n",
      "    0   9   0  19   0   8   1   1   1   1]\n",
      " [  7   9   0   1   3   0   0   1   0  20   0  52 239 250 251 255 149  20\n",
      "    0   0   0   2   0  13   1   1   1   1]\n",
      " [  0   7   0   0   4   0   0   2   2   0  49 211 255 255 255 253 255 138\n",
      "    6   2   9   0  11   0   1   1   1   1]\n",
      " [  0   9   0   7  12   0  11   3   0  44 233 255 250 170  70 248 249 255\n",
      "  136  18   1   0   5   0   1   1   1   1]\n",
      " [  0   0   0   0   0  14   9   0  50 215 253 252 168   0   0  74 251 238\n",
      "  255 152   0   0   0   0   1   1   1   1]\n",
      " [  0   2   6   0   7   0   0  61 229 251 255 150   7   0   0   0  71 234\n",
      "  255 255 154   0   0   4   1   1   1   1]\n",
      " [  0   6   0   0   7   2  67 211 255 255 148  19   0   9   6   2   0  79\n",
      "  225 255 255 152   4   2   1   1   1   1]\n",
      " [  8   7   0   5   0  59 224 255 243 167   8   0   7   0   6   0   2   1\n",
      "   86 224 255 248 147   0   1   1   1   1]\n",
      " [  0   4   0  12   0  46 210 251 173   5   1  10   0   7   4   1   1   0\n",
      "    0  79 216 247 137  11   1   1   1   1]\n",
      " [  0   8   0   9   7   0  60 128   0   0   2   6  12   2   0   8  10   3\n",
      "    0   2  84 112  24   0   1   1   1   1]\n",
      " [  5   0   0   0   0   4   0   0   6   2   0   0   0   0  14   0   0   0\n",
      "    4   7   0   0   0   5   1   1   1   1]\n",
      " [  1   1   1   1   1   1   1   1   1   1   1   1   1   1   1   1   1   1\n",
      "    1   1   1   1   1   1   1   1   1   1]\n",
      " [  1   1   1   1   1   1   1   1   1   1   1   1   1   1   1   1   1   1\n",
      "    1   1   1   1   1   1   1   1   1   1]\n",
      " [  1   1   1   1   1   1   1   1   1   1   1   1   1   1   1   1   1   1\n",
      "    1   1   1   1   1   1   1   1   1   1]\n",
      " [  1   1   1   1   1   1   1   1   1   1   1   1   1   1   1   1   1   1\n",
      "    1   1   1   1   1   1   1   1   1   1]]\n",
      "次元数 2\n",
      "shape (28, 28)\n",
      "タイプ <class 'numpy.ndarray'>\n"
     ]
    }
   ],
   "source": [
    "X = 1\n",
    "\n",
    "train_img_list = []\n",
    "for i in range(len(str(X))):\n",
    "    figure_X_num = int(list(str(X))[i])\n",
    "    img = random_get(figure_X_num).astype(np.uint8)\n",
    "    print('次元数',img.ndim)\n",
    "    print('shape',img.shape)\n",
    "    train_img_list.append(img)\n",
    "print('データ',train_img_list)\n",
    "print('タイプ',type(train_img_list))\n",
    "\n",
    "\n",
    "print('データ',multi_img.astype(np.uint8))\n",
    "print('次元数',multi_img.ndim)\n",
    "print('shape',multi_img.shape)\n",
    "print('タイプ',type(multi_img))\n"
   ]
  },
  {
   "cell_type": "markdown",
   "metadata": {},
   "source": [
    "### \bMNISTをuint8（8ビット符号なし整数）に変換するようにしたら、concat出来た"
   ]
  },
  {
   "cell_type": "code",
   "execution_count": null,
   "metadata": {},
   "outputs": [
    {
     "data": {
      "text/plain": [
       "True"
      ]
     },
     "metadata": {},
     "output_type": "display_data"
    }
   ],
   "source": [
    "train_img_list = []\n",
    "for i in range(len(str(X))):\n",
    "    figure_X_num = int(list(str(X))[i])\n",
    "    img = random_get(figure_X_num).astype(np.uint8)\n",
    "    train_img_list.append(img)\n",
    "train_img_list.append(multi_img)\n",
    "\n",
    "train_img_list = cv2.hconcat(train_img_list)\n",
    "cv2.imwrite('train_img/trainX.jpg', train_img_list)"
   ]
  },
  {
   "cell_type": "markdown",
   "metadata": {},
   "source": [
    "### npyで保存も試しておく。"
   ]
  },
  {
   "cell_type": "code",
   "execution_count": null,
   "metadata": {},
   "outputs": [],
   "source": [
    "np.save('train_img/train_data_array', np.array(train_data_array))\n",
    "np.save('train_img/train_data_array_float32', np.array(train_data_array).astype('float32'))"
   ]
  },
  {
   "cell_type": "code",
   "execution_count": null,
   "metadata": {},
   "outputs": [
    {
     "name": "stdout",
     "output_type": "stream",
     "text": [
      "uint8\n",
      "<class 'numpy.ndarray'>\n",
      "(10, 28, 392)\n",
      "float32\n",
      "<class 'numpy.ndarray'>\n",
      "(10, 28, 392)\n"
     ]
    }
   ],
   "source": [
    "a = np.load('train_img/train_data_array.npy')\n",
    "print(a.dtype)\n",
    "print(type(a))\n",
    "print(a.shape)\n",
    "\n",
    "a_float32 = np.load('train_img/train_data_array_float32.npy')\n",
    "print(a_float32.dtype)\n",
    "print(type(a_float32))\n",
    "print(a_float32.shape)\n"
   ]
  },
  {
   "cell_type": "markdown",
   "metadata": {},
   "source": [
    "# 学習データ作成・保存部分"
   ]
  },
  {
   "cell_type": "markdown",
   "metadata": {},
   "source": [
    "### ようやく結合。<br>"
   ]
  },
  {
   "cell_type": "code",
   "execution_count": 2,
   "metadata": {},
   "outputs": [
    {
     "name": "stderr",
     "output_type": "stream",
     "text": [
      "/Users/ryomacmini/work/codes/MNIST_Calculator/calculator/.venv/lib/python3.9/site-packages/torchvision/datasets/mnist.py:498: UserWarning: The given NumPy array is not writeable, and PyTorch does not support non-writeable tensors. This means you can write to the underlying (supposedly non-writeable) NumPy array using the tensor. You may want to copy the array to protect its data or make it writeable before converting it to a tensor. This type of warning will be suppressed for the rest of this program. (Triggered internally at  ../torch/csrc/utils/tensor_numpy.cpp:180.)\n",
      "  return torch.from_numpy(parsed.astype(m[2], copy=False)).view(*s)\n"
     ]
    }
   ],
   "source": [
    "#MNIST画像をダウンロード\n",
    "transform = transforms.Compose([transforms.ToTensor()])\n",
    "\n",
    "trainset = torchvision.datasets.MNIST(root='./data', train=True,download=True,transform=transform)\n",
    "testset = torchvision.datasets.MNIST(root='./data', train=False, download=True, transform=transform)\n",
    "trainloader = torch.utils.data.DataLoader(trainset,batch_size=len(trainset),shuffle=False,num_workers=2)\n",
    "testloader = torch.utils.data.DataLoader(testset, batch_size=len(testset),shuffle=False, num_workers=2)\n",
    "\n",
    "classes = tuple(np.linspace(0, 9, 10, dtype=np.uint8))\n",
    "\n",
    "trainset_not_transform = torchvision.datasets.MNIST(root='./data', train=True,download=True)\n",
    "testset_not_transform = torchvision.datasets.MNIST(root='./data', train=False, download=True)\n",
    "\n",
    "trainloader_iter = iter(trainloader)\n",
    "train_images, train_labels = trainloader_iter.next()"
   ]
  },
  {
   "cell_type": "code",
   "execution_count": 3,
   "metadata": {},
   "outputs": [],
   "source": [
    "#0-9までの空配列を作る\n",
    "MNIST_dict = {i: [] for i in range(10)}\n",
    "\n",
    "#数字に別々の配列に格納していく。\n",
    "for i in range(len(train_images)):\n",
    "    if train_labels[i] == 0:\n",
    "        MNIST_dict[0].append(train_images[i])\n",
    "    if train_labels[i] == 1:\n",
    "        MNIST_dict[1].append(train_images[i])\n",
    "    if train_labels[i] == 2:\n",
    "        MNIST_dict[2].append(train_images[i])\n",
    "    if train_labels[i] == 3:\n",
    "        MNIST_dict[3].append(train_images[i])\n",
    "    if train_labels[i] == 4:\n",
    "        MNIST_dict[4].append(train_images[i])\n",
    "    if train_labels[i] == 5:\n",
    "        MNIST_dict[5].append(train_images[i])\n",
    "    if train_labels[i] == 6:\n",
    "        MNIST_dict[6].append(train_images[i])\n",
    "    if train_labels[i] == 7:\n",
    "        MNIST_dict[7].append(train_images[i])\n",
    "    if train_labels[i] == 8:\n",
    "        MNIST_dict[8].append(train_images[i])\n",
    "    if train_labels[i] == 9:\n",
    "        MNIST_dict[9].append(train_images[i])"
   ]
  },
  {
   "cell_type": "code",
   "execution_count": 63,
   "metadata": {},
   "outputs": [],
   "source": [
    "# X　✕　Y　= Z という式の画像が保存されるので、最初に必要なものを記述する\n",
    "\n",
    "image_output_dir = \"train_img/\" #出力先のディレクトリを指定\n",
    "number_of_output = 50000 #出力する枚数を指定\n",
    "npy_uint8_filename = 'train_data_array'\n",
    "npy_float32_filename = 'train_data_array_float32'\n",
    "\n",
    "X_digit = 3 #Xの桁数を指定\n",
    "Y_digit = 3 #Yの桁数を指定\n",
    "\n",
    "#--------------------ここからは変更する必要なし--------------------#\n",
    "\n",
    "result_digit = len(str(int('9'*X_digit) * int('9'*Y_digit))) #Zの桁数を計算。ゼロパティングのための計算。\n",
    "\n",
    "multi_img = Image.open('img/multiplication28pix_small.jpg') #計算記号「✕」をロードする\n",
    "multi_img = np.array(multi_img.convert('L')) #グレイスケールへ変換\n",
    "\n",
    "add_img = Image.open('img/addition28pix_small.jpg') #計算記号「+」をロードする\n",
    "add_img = np.array(add_img.convert('L')) #グレイスケールへ変換\n",
    "\n",
    "equal_img = Image.open('img/equal28pix_small.jpg') #計算記号「=」をロードする\n",
    "equal_img = np.array(equal_img.convert('L')) #グレイスケールへ変換\n",
    "\n",
    "train_data_array = [] #.npyで保存するための配列\n",
    "\n",
    "def random_get(figure): #引数として数字を指定したら、指定数字のMNIST画像をランダムで取ってくる（ndarray）\n",
    "    random_num = random.randrange(len(MNIST_dict[figure])) #MNISTの指定数字は何枚入っているのかを見る\n",
    "    random_get = MNIST_dict[figure][random_num].numpy()\n",
    "    random_get = random_get.reshape((28, 28))\n",
    "    return random_get*255 #255を乗算しないと、floatのままになり、後にくるインポート画像とconcatinate出来ない\n",
    "\n",
    "for k in range(number_of_output): \n",
    "    X = random.randrange(10**(X_digit-1),10**X_digit) #指定の桁数の中で乱数が出る\n",
    "    Y = random.randrange(10**(Y_digit-1),10**Y_digit) #指定の桁数の中で乱数が出る\n",
    "    Z = str(X*Y).zfill(result_digit)\n",
    "    train_img_list = []\n",
    "\n",
    "    for i in range(len(str(X))):\n",
    "        figure_X_num = int(list(str(X))[i])\n",
    "        img = random_get(figure_X_num).astype(np.uint8)\n",
    "        train_img_list.append(img)\n",
    "\n",
    "    train_img_list.append(multi_img) #「✕」の記号を\bXにくっつける\n",
    "\n",
    "    for i in range(len(str(Y))):\n",
    "        figure_Y_num = int(list(str(Y))[i])\n",
    "        img = random_get(figure_Y_num).astype(np.uint8)\n",
    "        train_img_list.append(img)\n",
    "\n",
    "    train_img_list.append(equal_img)\n",
    "\n",
    "    for i in range(len(str(Z))):\n",
    "        figure_Z_num = int(list(str(Z))[i])\n",
    "        img = random_get(figure_Z_num).astype(np.uint8)\n",
    "        train_img_list.append(img)\n",
    "\n",
    "    train_img_list = cv2.hconcat(train_img_list)\n",
    "    train_data_array.append(train_img_list) #.npyで保存するための配列に追加していく\n",
    "\n",
    "np.save(image_output_dir + npy_uint8_filename, np.array(train_data_array))\n",
    "np.save(image_output_dir + npy_float32_filename, np.array(train_data_array).astype('float32'))\n",
    "\n",
    "    # 画像で保存したい場合は、下記をアンコメントする\n",
    "    # cv2.imwrite(image_output_dir + str(k) + '.jpg', train_img_list)"
   ]
  },
  {
   "cell_type": "code",
   "execution_count": 67,
   "metadata": {},
   "outputs": [
    {
     "name": "stdout",
     "output_type": "stream",
     "text": [
      "uint8\n",
      "<class 'numpy.ndarray'>\n",
      "(10, 28, 392)\n",
      "float32\n",
      "<class 'numpy.ndarray'>\n",
      "(10, 28, 392)\n"
     ]
    }
   ],
   "source": [
    "a = np.load('train_img/train_data_array.npy')\n",
    "print(a.dtype)\n",
    "print(type(a))\n",
    "print(a.shape)\n",
    "\n",
    "a_float32 = np.load('train_img/train_data_array_float32.npy')\n",
    "print(a_float32.dtype)\n",
    "print(type(a_float32))\n",
    "print(a_float32.shape)"
   ]
  },
  {
   "cell_type": "markdown",
   "metadata": {},
   "source": [
    "# その他、試行錯誤"
   ]
  },
  {
   "cell_type": "markdown",
   "metadata": {},
   "source": [
    "### 保存先を指定する"
   ]
  },
  {
   "cell_type": "code",
   "execution_count": null,
   "metadata": {},
   "outputs": [],
   "source": [
    "# image_output_dir = \"/content/drive/MyDrive/ryo/99.data/train_data/\"\n",
    "image_output_dir = \"train_img/\"\n",
    "img123_hconcat = cv2.hconcat(im_list)\n",
    "type(img123_hconcat)\n",
    "pil_img = Image.fromarray(img123_hconcat)\n",
    "print(pil_img.mode)\n",
    "pil_img.save(image_output_dir + 'hconcat_test.jpg')"
   ]
  },
  {
   "cell_type": "code",
   "execution_count": null,
   "metadata": {},
   "outputs": [],
   "source": [
    "pil_img.save(image_output_dir + 'hconcat_test.jpg')"
   ]
  },
  {
   "cell_type": "markdown",
   "metadata": {},
   "source": [
    "### 画像を開いてみる"
   ]
  },
  {
   "cell_type": "code",
   "execution_count": null,
   "metadata": {},
   "outputs": [
    {
     "name": "stdout",
     "output_type": "stream",
     "text": [
      "None (28, 28) L\n",
      "(0, 255)\n",
      "255\n"
     ]
    },
    {
     "data": {
      "image/png": "[encoded data removed]",
      "text/plain": [
       "<Figure size 432x288 with 1 Axes>"
      ]
     },
     "metadata": {
      "needs_background": "light"
     },
     "output_type": "display_data"
    }
   ],
   "source": [
    "im2 = Image.open('img/multiplication28pix.png')\n",
    "new_im = im2.convert('L')\n",
    "plt.imshow(np.array(new_im), cmap='gray')\n",
    "print(new_im.format, new_im.size, new_im.mode) #フォーマット、サイズ（幅、高さ）、モードなどのメタ情報を取得。サイズは(幅, 高さ)。\n",
    "print(new_im.getextrema()) #RGB各色の最小値と最大値を取得。\n",
    "print(new_im.getpixel((14, 14))) #指定した座標の色を取得。座標の原点(0, 0)は左上。(R, G, B)のタプルが返される。"
   ]
  },
  {
   "cell_type": "markdown",
   "metadata": {},
   "source": [
    "### 画像を取得し、Tensorへ変換する"
   ]
  },
  {
   "cell_type": "code",
   "execution_count": null,
   "metadata": {},
   "outputs": [
    {
     "name": "stdout",
     "output_type": "stream",
     "text": [
      "tensor([[[0., 0., 0.,  ..., 0., 0., 0.],\n",
      "         [0., 0., 0.,  ..., 0., 0., 0.],\n",
      "         [0., 0., 0.,  ..., 0., 0., 0.],\n",
      "         ...,\n",
      "         [0., 0., 0.,  ..., 0., 0., 0.],\n",
      "         [0., 0., 0.,  ..., 0., 0., 0.],\n",
      "         [0., 0., 0.,  ..., 0., 0., 0.]],\n",
      "\n",
      "        [[0., 0., 0.,  ..., 0., 0., 0.],\n",
      "         [0., 0., 0.,  ..., 0., 0., 0.],\n",
      "         [0., 0., 0.,  ..., 0., 0., 0.],\n",
      "         ...,\n",
      "         [0., 0., 0.,  ..., 0., 0., 0.],\n",
      "         [0., 0., 0.,  ..., 0., 0., 0.],\n",
      "         [0., 0., 0.,  ..., 0., 0., 0.]],\n",
      "\n",
      "        [[0., 0., 0.,  ..., 0., 0., 0.],\n",
      "         [0., 0., 0.,  ..., 0., 0., 0.],\n",
      "         [0., 0., 0.,  ..., 0., 0., 0.],\n",
      "         ...,\n",
      "         [0., 0., 0.,  ..., 0., 0., 0.],\n",
      "         [0., 0., 0.,  ..., 0., 0., 0.],\n",
      "         [0., 0., 0.,  ..., 0., 0., 0.]],\n",
      "\n",
      "        [[1., 1., 1.,  ..., 1., 1., 1.],\n",
      "         [1., 1., 1.,  ..., 1., 1., 1.],\n",
      "         [1., 1., 1.,  ..., 1., 1., 1.],\n",
      "         ...,\n",
      "         [1., 1., 1.,  ..., 1., 1., 1.],\n",
      "         [1., 1., 1.,  ..., 1., 1., 1.],\n",
      "         [1., 1., 1.,  ..., 1., 1., 1.]]])\n",
      "tensor([[[0.0039, 0.0039, 0.0039,  ..., 0.0039, 0.0039, 0.0039],\n",
      "         [0.0039, 0.0039, 0.0039,  ..., 0.0039, 0.0039, 0.0039],\n",
      "         [0.0039, 0.0039, 0.0039,  ..., 0.0039, 0.0039, 0.0039],\n",
      "         ...,\n",
      "         [0.0039, 0.0039, 0.0039,  ..., 0.0039, 0.0039, 0.0039],\n",
      "         [0.0039, 0.0039, 0.0039,  ..., 0.0039, 0.0039, 0.0039],\n",
      "         [0.0039, 0.0039, 0.0039,  ..., 0.0039, 0.0039, 0.0039]],\n",
      "\n",
      "        [[0.0039, 0.0039, 0.0039,  ..., 0.0039, 0.0039, 0.0039],\n",
      "         [0.0039, 0.0039, 0.0039,  ..., 0.0039, 0.0039, 0.0039],\n",
      "         [0.0039, 0.0039, 0.0039,  ..., 0.0039, 0.0039, 0.0039],\n",
      "         ...,\n",
      "         [0.0039, 0.0039, 0.0039,  ..., 0.0039, 0.0039, 0.0039],\n",
      "         [0.0039, 0.0039, 0.0039,  ..., 0.0039, 0.0039, 0.0039],\n",
      "         [0.0039, 0.0039, 0.0039,  ..., 0.0039, 0.0039, 0.0039]],\n",
      "\n",
      "        [[0.0039, 0.0039, 0.0039,  ..., 0.0039, 0.0039, 0.0039],\n",
      "         [0.0039, 0.0039, 0.0039,  ..., 0.0039, 0.0039, 0.0039],\n",
      "         [0.0039, 0.0039, 0.0039,  ..., 0.0039, 0.0039, 0.0039],\n",
      "         ...,\n",
      "         [0.0039, 0.0039, 0.0039,  ..., 0.0039, 0.0039, 0.0039],\n",
      "         [0.0039, 0.0039, 0.0039,  ..., 0.0039, 0.0039, 0.0039],\n",
      "         [0.0039, 0.0039, 0.0039,  ..., 0.0039, 0.0039, 0.0039]]])\n",
      "tensor([[[0.0039, 0.0039, 0.0039,  ..., 0.0039, 0.0039, 0.0039],\n",
      "         [0.0039, 0.0039, 0.0039,  ..., 0.0039, 0.0039, 0.0039],\n",
      "         [0.0039, 0.0039, 0.0039,  ..., 0.0039, 0.0039, 0.0039],\n",
      "         ...,\n",
      "         [0.0039, 0.0039, 0.0039,  ..., 0.0039, 0.0039, 0.0039],\n",
      "         [0.0039, 0.0039, 0.0039,  ..., 0.0039, 0.0039, 0.0039],\n",
      "         [0.0039, 0.0039, 0.0039,  ..., 0.0039, 0.0039, 0.0039]],\n",
      "\n",
      "        [[0.0039, 0.0039, 0.0039,  ..., 0.0039, 0.0039, 0.0039],\n",
      "         [0.0039, 0.0039, 0.0039,  ..., 0.0039, 0.0039, 0.0039],\n",
      "         [0.0039, 0.0039, 0.0039,  ..., 0.0039, 0.0039, 0.0039],\n",
      "         ...,\n",
      "         [0.0039, 0.0039, 0.0039,  ..., 0.0039, 0.0039, 0.0039],\n",
      "         [0.0039, 0.0039, 0.0039,  ..., 0.0039, 0.0039, 0.0039],\n",
      "         [0.0039, 0.0039, 0.0039,  ..., 0.0039, 0.0039, 0.0039]],\n",
      "\n",
      "        [[0.0039, 0.0039, 0.0039,  ..., 0.0039, 0.0039, 0.0039],\n",
      "         [0.0039, 0.0039, 0.0039,  ..., 0.0039, 0.0039, 0.0039],\n",
      "         [0.0039, 0.0039, 0.0039,  ..., 0.0039, 0.0039, 0.0039],\n",
      "         ...,\n",
      "         [0.0039, 0.0039, 0.0039,  ..., 0.0039, 0.0039, 0.0039],\n",
      "         [0.0039, 0.0039, 0.0039,  ..., 0.0039, 0.0039, 0.0039],\n",
      "         [0.0039, 0.0039, 0.0039,  ..., 0.0039, 0.0039, 0.0039]]])\n"
     ]
    }
   ],
   "source": [
    "img1 = Image.open('img/multiplication28pix.png')\n",
    "img1_tensor = torchvision.transforms.functional.to_tensor(img1)\n",
    "# plt.imshow(np.array(img1), cmap='gray')\n",
    "\n",
    "img2 = Image.open('img/addition28pix.jpg')\n",
    "img2_tensor = torchvision.transforms.functional.to_tensor(img2)\n",
    "# plt.imshow(np.array(img2), cmap='gray')\n",
    "\n",
    "img3 = Image.open('img/equal28pix.jpg')\n",
    "img3_tensor = torchvision.transforms.functional.to_tensor(img3)\n",
    "# plt.imshow(np.array(img3), cmap='gray')"
   ]
  },
  {
   "cell_type": "code",
   "execution_count": null,
   "metadata": {},
   "outputs": [
    {
     "data": {
      "image/png": "[encoded data removed]",
      "text/plain": [
       "<Figure size 432x288 with 1 Axes>"
      ]
     },
     "metadata": {
      "needs_background": "light"
     },
     "output_type": "display_data"
    }
   ],
   "source": [
    "plt.imshow(img1_tensor[0],cmap=\"gray\")\n",
    "plt.savefig(\"test.png\")"
   ]
  },
  {
   "cell_type": "markdown",
   "metadata": {},
   "source": [
    "### Tensorから画像に戻してみる"
   ]
  },
  {
   "cell_type": "code",
   "execution_count": null,
   "metadata": {},
   "outputs": [
    {
     "data": {
      "text/plain": [
       "<matplotlib.image.AxesImage at 0x7fb8490686d0>"
      ]
     },
     "execution_count": 28,
     "metadata": {},
     "output_type": "execute_result"
    },
    {
     "data": {
      "image/png": "[encoded data removed]",
      "text/plain": [
       "<Figure size 432x288 with 1 Axes>"
      ]
     },
     "metadata": {
      "needs_background": "light"
     },
     "output_type": "display_data"
    }
   ],
   "source": [
    "img1_PIL = torchvision.transforms.functional.to_pil_image(img1_tensor)\n",
    "# img1_PIL.show\n",
    "plt.imshow(img1_PIL, cmap='gray')"
   ]
  },
  {
   "cell_type": "markdown",
   "metadata": {},
   "source": [
    "### Tensorを画像として保存する"
   ]
  },
  {
   "cell_type": "markdown",
   "metadata": {},
   "source": [
    "2つとも試したけどだめだった。エラーは同じ。\n",
    "```\n",
    "torchvision.utils.save_image(img3_tensor,'img_tensor3.jpg')　←　tensorをtorchvisionを使って画像化\n",
    "img1_PIL.save(\"img1_PIL.jpg\",\"JPEG\",quality=95)　← PILをつかって、JPEGを保存する\n",
    "\n",
    "OSError: cannot write mode RGBA as JPEG\n",
    "```\n",
    "\n",
    "結論、.pngを読み込むと、TensorがRGBAになってしまい、各ライブラリの保存形式では保存ができないということが起きた。\n"
   ]
  },
  {
   "cell_type": "code",
   "execution_count": null,
   "metadata": {},
   "outputs": [],
   "source": [
    "#どっちでも行けるんだけど、PILよりtorchvisionで出来る方を採用しよう。\n",
    "# img1_PIL.save(\"img1_PIL.jpg\",\"JPEG\")\n",
    "torchvision.utils.save_image(img3_tensor,'train_img/img_tensor3.jpg')"
   ]
  },
  {
   "cell_type": "markdown",
   "metadata": {},
   "source": [
    "ちなみにPNGで取得しても、後でRGB変換をすれば、上記save機能で保存出来る。\n",
    "```\n",
    "from PIL import Image\n",
    "img1_PIL = img1_PIL.convert(\"RGB\")\n",
    "img1_PIL.save(\"img1_PIL.jpg\",\"JPEG\",quality=95)\n",
    "```"
   ]
  },
  {
   "cell_type": "markdown",
   "metadata": {},
   "source": [
    "### 画像を横方向にくっつけていく\n",
    "参考文献：https://roshiago.blog.ss-blog.jp/2019-07-15　<br>\n",
    "https://note.nkmk.me/python-opencv-hconcat-vconcat-np-tile/<br>\n",
    "<br>\n",
    "Pillowでも出来そうだったんだけど、concatみたいな便利なメソッドは無さそうで<br>\n",
    "1つの大きな画像を作って、そこに上から位置を決めてペーストしていく、っていう面倒な感じに見えたからやめた<br>"
   ]
  },
  {
   "cell_type": "code",
   "execution_count": null,
   "metadata": {},
   "outputs": [],
   "source": [
    "img1 = Image.open('img/multiplication28pix.jpg')\n",
    "img1 = np.array(img1)\n",
    "\n",
    "img2 = Image.open('img/addition28pix.jpg')\n",
    "img2 = np.array(img2)\n",
    "\n",
    "img3 = Image.open('img/equal28pix.jpg')\n",
    "img3 = np.array(img3)\n",
    "\n",
    "im_list = [img1,img2,img3]"
   ]
  },
  {
   "cell_type": "code",
   "execution_count": null,
   "metadata": {},
   "outputs": [
    {
     "data": {
      "text/plain": [
       "True"
      ]
     },
     "execution_count": 31,
     "metadata": {},
     "output_type": "execute_result"
    }
   ],
   "source": [
    "img123_hconcat = cv2.hconcat(im_list)\n",
    "cv2.imwrite('train_img/img123_hconcat.jpg', img123_hconcat)"
   ]
  },
  {
   "cell_type": "markdown",
   "metadata": {},
   "source": [
    "### google drive への保存は、結構面倒なことが判明。colabへSSHして、ローカルに保存するように保存しよう。<br>\n",
    "<br>\n",
    "● SSHでvscodeから接続できるようにする<br>\n",
    "● 生成した画像を保存する\n",
    "● git cloneでcolaboのローカルにmnist_calculatorを利用できるようにする<br>\n",
    "<br>\n",
    "<br>\n",
    "<br>\n"
   ]
  },
  {
   "cell_type": "code",
   "execution_count": null,
   "metadata": {},
   "outputs": [],
   "source": [
    "# image_output_dir = \"/content/drive/MyDrive/ryo/99.data/train_data/\"\n",
    "image_output_dir = \"train_img/\"\n",
    "img123_hconcat = cv2.hconcat(im_list)\n",
    "type(img123_hconcat)\n",
    "pil_img = Image.fromarray(img123_hconcat)\n",
    "print(pil_img.mode)\n",
    "pil_img.save(image_output_dir + 'hconcat_test.jpg')"
   ]
  },
  {
   "cell_type": "markdown",
   "metadata": {},
   "source": [
    "○画像をくっつけて学習データとして使えるようにする<br>\n",
    "　○　ランダムに生成した画像を✕=の記号と組み合わせる<br>\n",
    "　○　大量に保存する　<br>"
   ]
  },
  {
   "cell_type": "markdown",
   "metadata": {},
   "source": []
  }
 ],
 "metadata": {
  "interpreter": {
   "hash": "26bf81a8b0f6551032e95511ce83bf33b5c6ceeaad0b2abcc2d7ce0051a0d263"
  },
  "kernelspec": {
   "display_name": "Python 3.9.5 64-bit ('.venv': pipenv)",
   "name": "python3"
  },
  "language_info": {
   "codemirror_mode": {
    "name": "ipython",
    "version": 3
   },
   "file_extension": ".py",
   "mimetype": "text/x-python",
   "name": "python",
   "nbconvert_exporter": "python",
   "pygments_lexer": "ipython3",
   "version": "3.9.5"
  },
  "orig_nbformat": 4
 },
 "nbformat": 4,
 "nbformat_minor": 2
}
