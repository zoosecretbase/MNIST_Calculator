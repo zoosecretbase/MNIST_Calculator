{
 "cells": [
  {
   "cell_type": "code",
   "execution_count": 1,
   "metadata": {},
   "outputs": [
    {
     "name": "stdout",
     "output_type": "stream",
     "text": [
      "3.9.5 (v3.9.5:0a7dcbdb13, May  3 2021, 13:17:02) \n",
      "[Clang 6.0 (clang-600.0.57)]\n",
      "['/Users/ryomacmini/work/codes/MNIST_Calculator/calculator', '/Users/ryomacmini/.vscode/extensions/ms-toolsai.jupyter-2021.8.2041215044/pythonFiles/vscode_datascience_helpers', '/Users/ryomacmini/.vscode/extensions/ms-toolsai.jupyter-2021.8.2041215044/pythonFiles', '/Users/ryomacmini/.vscode/extensions/ms-toolsai.jupyter-2021.8.2041215044/pythonFiles/lib/python', '/Library/Frameworks/Python.framework/Versions/3.9/lib/python39.zip', '/Library/Frameworks/Python.framework/Versions/3.9/lib/python3.9', '/Library/Frameworks/Python.framework/Versions/3.9/lib/python3.9/lib-dynload', '', '/Users/ryomacmini/work/codes/MNIST_Calculator/calculator/.venv/lib/python3.9/site-packages', '/Users/ryomacmini/work/codes/MNIST_Calculator/calculator/.venv/lib/python3.9/site-packages/IPython/extensions', '/Users/ryomacmini/.ipython']\n"
     ]
    }
   ],
   "source": [
    "from __future__ import division\n",
    "from __future__ import print_function\n",
    "\n",
    "import time\n",
    "import argparse\n",
    "import sys\n",
    "print(sys.version)\n",
    "print(sys.path)\n",
    "import numpy as np\n",
    "import matplotlib.pyplot as plt\n",
    "import PIL\n",
    "import cv2\n",
    "\n",
    "import torch\n",
    "import torch.nn.functional as F\n",
    "import torch.optim as optim\n",
    "from torchvision.utils import make_grid, save_image\n",
    "\n",
    "from tensorboardX import SummaryWriter\n",
    "from tqdm import tqdm\n",
    "from copy import deepcopy\n",
    "\n",
    "\n",
    "from utils import *\n",
    "from models import *\n",
    "from fid_score import *\n",
    "from inception_score import *\n",
    "\n",
    "from real_imgs import *"
   ]
  },
  {
   "cell_type": "markdown",
   "metadata": {},
   "source": [
    "# ロードした画像の表示を試す。\n",
    "(1)ローカルにある画像を表示すること<br>\n",
    "(2)RGBではなくグレースケールにすること<br>\n",
    "(3)28.28にreshapeすること→なぜかRGB最小が0にならなかったので、そもそも28pixで画像を準備<br>"
   ]
  },
  {
   "cell_type": "code",
   "execution_count": 2,
   "metadata": {},
   "outputs": [
    {
     "name": "stdout",
     "output_type": "stream",
     "text": [
      "PNG (28, 28) RGBA\n",
      "((0, 255), (0, 255), (0, 255), (255, 255))\n",
      "(255, 255, 255, 255)\n"
     ]
    },
    {
     "data": {
      "image/png": "[encoded data removed]",
      "text/plain": [
       "<Figure size 432x288 with 1 Axes>"
      ]
     },
     "metadata": {
      "needs_background": "light"
     },
     "output_type": "display_data"
    }
   ],
   "source": [
    "from PIL import Image, ImageFilter\n",
    "\n",
    "im = Image.open('img/addition28pix.png')\n",
    "plt.imshow(np.array(im))\n",
    "print(im.format, im.size, im.mode) #フォーマット、サイズ（幅、高さ）、モードなどのメタ情報を取得。サイズは(幅, 高さ)。\n",
    "print(im.getextrema()) #RGB各色の最小値と最大値を取得。\n",
    "print(im.getpixel((14,14 ))) #指定した座標の色を取得。座標の原点(0, 0)は左上。(R, G, B)のタプルが返される。"
   ]
  },
  {
   "cell_type": "code",
   "execution_count": 3,
   "metadata": {},
   "outputs": [
    {
     "name": "stdout",
     "output_type": "stream",
     "text": [
      "None (28, 28) L\n",
      "(0, 255)\n",
      "255\n"
     ]
    },
    {
     "data": {
      "image/png": "[encoded data removed]",
      "text/plain": [
       "<Figure size 432x288 with 1 Axes>"
      ]
     },
     "metadata": {
      "needs_background": "light"
     },
     "output_type": "display_data"
    }
   ],
   "source": [
    "im2 = Image.open('img/multiplication28pix.png')\n",
    "new_im = im2.convert('L')\n",
    "plt.imshow(np.array(new_im), cmap='gray')\n",
    "print(new_im.format, new_im.size, new_im.mode) #フォーマット、サイズ（幅、高さ）、モードなどのメタ情報を取得。サイズは(幅, 高さ)。\n",
    "print(new_im.getextrema()) #RGB各色の最小値と最大値を取得。\n",
    "print(new_im.getpixel((14, 14))) #指定した座標の色を取得。座標の原点(0, 0)は左上。(R, G, B)のタプルが返される。"
   ]
  },
  {
   "cell_type": "code",
   "execution_count": 4,
   "metadata": {},
   "outputs": [
    {
     "name": "stdout",
     "output_type": "stream",
     "text": [
      "None (28, 28) L\n",
      "(0, 255)\n",
      "0\n"
     ]
    },
    {
     "data": {
      "image/png": "[encoded data removed]",
      "text/plain": [
       "<Figure size 432x288 with 1 Axes>"
      ]
     },
     "metadata": {
      "needs_background": "light"
     },
     "output_type": "display_data"
    }
   ],
   "source": [
    "im3 = Image.open('img/equal28pix.png')\n",
    "im3 = im3.convert('L')\n",
    "im3 = im3.resize((28, 28))\n",
    "plt.imshow(np.array(im3), cmap='gray')\n",
    "\n",
    "print(im3.format, im3.size, im3.mode) #フォーマット、サイズ（幅、高さ）、モードなどのメタ情報を取得。サイズは(幅, 高さ)。\n",
    "print(im3.getextrema()) #RGB各色の最小値と最大値を取得。\n",
    "print(im3.getpixel((12, 10))) #指定した座標の色を取得。座標の原点(0, 0)は左上。(R, G, B)のタプルが返される。"
   ]
  },
  {
   "cell_type": "markdown",
   "metadata": {},
   "source": [
    "### ＜参考＞resizeしたら、最小となっているところが\"0\"=完全黒にならなかった"
   ]
  },
  {
   "cell_type": "code",
   "execution_count": 5,
   "metadata": {},
   "outputs": [
    {
     "name": "stdout",
     "output_type": "stream",
     "text": [
      "None (28, 28) L\n",
      "(12, 255)\n",
      "255\n"
     ]
    },
    {
     "data": {
      "image/png": "[encoded data removed]",
      "text/plain": [
       "<Figure size 432x288 with 1 Axes>"
      ]
     },
     "metadata": {
      "needs_background": "light"
     },
     "output_type": "display_data"
    }
   ],
   "source": [
    "im4 = Image.open('img/equal.png')\n",
    "im4 = im4.convert('L')\n",
    "im4 = im4.resize((28, 28))\n",
    "plt.imshow(np.array(im4), cmap='gray')\n",
    "\n",
    "print(im4.format, im4.size, im4.mode) #フォーマット、サイズ（幅、高さ）、モードなどのメタ情報を取得。サイズは(幅, 高さ)。\n",
    "#None (28, 28) L\n",
    "\n",
    "print(im4.getextrema()) #RGB各色の最小値と最大値を取得。\n",
    "#(12, 255)\n",
    "\n",
    "print(im4.getpixel((1, 1))) #指定した座標の色を取得。座標の原点(0, 0)は左上。(R, G, B)のタプルが返される。\n",
    "#255"
   ]
  },
  {
   "cell_type": "markdown",
   "metadata": {},
   "source": [
    "# MNISTから画像を表示してみる"
   ]
  },
  {
   "cell_type": "markdown",
   "metadata": {},
   "source": [
    "### データをダウンロードする"
   ]
  },
  {
   "cell_type": "code",
   "execution_count": 6,
   "metadata": {},
   "outputs": [
    {
     "name": "stdout",
     "output_type": "stream",
     "text": [
      "<class 'torchvision.transforms.transforms.Compose'>\n",
      "<class 'torchvision.datasets.mnist.MNIST'>\n",
      "<class 'torchvision.datasets.mnist.MNIST'>\n",
      "<class 'torchvision.datasets.mnist.MNIST'>\n",
      "<class 'torchvision.datasets.mnist.MNIST'>\n"
     ]
    },
    {
     "name": "stderr",
     "output_type": "stream",
     "text": [
      "/Users/ryomacmini/work/codes/MNIST_Calculator/calculator/.venv/lib/python3.9/site-packages/torchvision/datasets/mnist.py:498: UserWarning: The given NumPy array is not writeable, and PyTorch does not support non-writeable tensors. This means you can write to the underlying (supposedly non-writeable) NumPy array using the tensor. You may want to copy the array to protect its data or make it writeable before converting it to a tensor. This type of warning will be suppressed for the rest of this program. (Triggered internally at  ../torch/csrc/utils/tensor_numpy.cpp:180.)\n",
      "  return torch.from_numpy(parsed.astype(m[2], copy=False)).view(*s)\n"
     ]
    }
   ],
   "source": [
    "transform = transforms.Compose([transforms.ToTensor()])\n",
    "\n",
    "trainset = torchvision.datasets.MNIST(root='./data', train=True,download=True,transform=transform)\n",
    "testset = torchvision.datasets.MNIST(root='./data', train=False, download=True, transform=transform)\n",
    "trainloader = torch.utils.data.DataLoader(trainset,batch_size=len(trainset),shuffle=False,num_workers=2)\n",
    "testloader = torch.utils.data.DataLoader(testset, batch_size=len(testset),shuffle=False, num_workers=2)\n",
    "\n",
    "classes = tuple(np.linspace(0, 9, 10, dtype=np.uint8))\n",
    "\n",
    "print(type(transform))\n",
    "print(type(trainset))\n",
    "print(type(testset))\n",
    "\n",
    "trainset_not_transform = torchvision.datasets.MNIST(root='./data', train=True,download=True)\n",
    "testset_not_transform = torchvision.datasets.MNIST(root='./data', train=False, download=True)\n",
    "print(type(trainset_not_transform))\n",
    "print(type(testset_not_transform))\n"
   ]
  },
  {
   "cell_type": "markdown",
   "metadata": {},
   "source": [
    "### trainloaderの中身を見る"
   ]
  },
  {
   "cell_type": "code",
   "execution_count": 7,
   "metadata": {},
   "outputs": [],
   "source": [
    "data_iter = iter(trainloader)\n",
    "images, labels = data_iter.next()"
   ]
  },
  {
   "cell_type": "code",
   "execution_count": 8,
   "metadata": {},
   "outputs": [
    {
     "name": "stdout",
     "output_type": "stream",
     "text": [
      "<built-in method type of Tensor object at 0x7f9de88549c0>\n",
      "torch.Size([60000, 1, 28, 28])\n",
      "60000\n",
      "------------------------\n",
      "<built-in method type of Tensor object at 0x7f9de8851500>\n",
      "torch.Size([60000])\n",
      "60000\n",
      "------------------------\n",
      "torch.Size([1, 28, 28])\n",
      "------------------------\n",
      "Label: tensor(5)\n"
     ]
    },
    {
     "data": {
      "image/png": "[encoded data removed]",
      "text/plain": [
       "<Figure size 432x288 with 1 Axes>"
      ]
     },
     "metadata": {
      "needs_background": "light"
     },
     "output_type": "display_data"
    }
   ],
   "source": [
    "# matplotlibで1つ目のデータを可視化してみる\n",
    "print(images.type)\n",
    "print(images.size())\n",
    "print(len(images))\n",
    "print(\"------------------------\")\n",
    "print(labels.type)\n",
    "print(labels.size())\n",
    "print(len(labels))\n",
    "print(\"------------------------\")\n",
    "print(images[1].size())\n",
    "print(\"------------------------\")\n",
    "npimg = images[1].numpy()\n",
    "npimg = npimg.reshape((28, 28))\n",
    "plt.imshow(npimg, cmap='gray')\n",
    "print('Label:', labels[0])"
   ]
  },
  {
   "cell_type": "markdown",
   "metadata": {},
   "source": [
    "### testloaderの中身を見る"
   ]
  },
  {
   "cell_type": "code",
   "execution_count": 9,
   "metadata": {},
   "outputs": [],
   "source": [
    "testloader_iter= iter(testloader)\n",
    "images2, labels2 = testloader_iter.next()"
   ]
  },
  {
   "cell_type": "code",
   "execution_count": 10,
   "metadata": {},
   "outputs": [
    {
     "name": "stdout",
     "output_type": "stream",
     "text": [
      "<built-in method type of Tensor object at 0x7f9e19271700>\n",
      "torch.Size([10000, 1, 28, 28])\n",
      "10000\n",
      "------------------------\n",
      "<built-in method type of Tensor object at 0x7f9de8851780>\n",
      "torch.Size([10000])\n",
      "10000\n",
      "------------------------\n",
      "torch.Size([1, 28, 28])\n",
      "------------------------\n",
      "Label: tensor(7)\n"
     ]
    },
    {
     "data": {
      "image/png": "[encoded data removed]",
      "text/plain": [
       "<Figure size 432x288 with 1 Axes>"
      ]
     },
     "metadata": {
      "needs_background": "light"
     },
     "output_type": "display_data"
    }
   ],
   "source": [
    "# matplotlibで1つ目のデータを可視化してみる\n",
    "print(images2.type)\n",
    "print(images2.size())\n",
    "print(len(images2))\n",
    "print(\"------------------------\")\n",
    "print(labels2.type)\n",
    "print(labels2.size())\n",
    "print(len(labels2))\n",
    "print(\"------------------------\")\n",
    "print(images2[1].size())\n",
    "print(\"------------------------\")\n",
    "npimg2 = images2[1].numpy()\n",
    "npimg2 = npimg2.reshape((28, 28))\n",
    "plt.imshow(npimg2, cmap='gray')\n",
    "print('Label:', labels2[0])"
   ]
  },
  {
   "cell_type": "markdown",
   "metadata": {},
   "source": [
    "# 試行錯誤"
   ]
  },
  {
   "cell_type": "markdown",
   "metadata": {},
   "source": [
    "### 桁数をコントロールする方法をマスターする"
   ]
  },
  {
   "cell_type": "code",
   "execution_count": 11,
   "metadata": {},
   "outputs": [
    {
     "name": "stdout",
     "output_type": "stream",
     "text": [
      "1 5 5\n",
      "Xの桁数は 1 Yの桁数は 1 Zの桁数は 1\n"
     ]
    }
   ],
   "source": [
    "X_digit = 1\n",
    "Y_digit = 1\n",
    "\n",
    "X = random.randrange(10**(X_digit-1),10**X_digit) #指定の桁数の中で乱数が出る\n",
    "Y = random.randrange(10**(Y_digit-1),10**Y_digit) #指定の桁数の中で乱数が出る\n",
    "Z = X*Y\n",
    "\n",
    "print(X,Y,Z)\n",
    "print('Xの桁数は',len(str(X)),\\\n",
    "      'Yの桁数は',len(str(Y)),\\\n",
    "      'Zの桁数は',len(str(Z)))"
   ]
  },
  {
   "cell_type": "markdown",
   "metadata": {},
   "source": [
    "※pythonのパディングという操作があるよ！"
   ]
  },
  {
   "cell_type": "markdown",
   "metadata": {},
   "source": [
    "### 数字を指定すれば、指定の画像が取ってこれるようになろう"
   ]
  },
  {
   "cell_type": "code",
   "execution_count": 12,
   "metadata": {},
   "outputs": [
    {
     "name": "stdout",
     "output_type": "stream",
     "text": [
      "<class 'torchvision.transforms.transforms.Compose'>\n",
      "<class 'torchvision.datasets.mnist.MNIST'>\n",
      "<class 'torchvision.datasets.mnist.MNIST'>\n",
      "<class 'torchvision.datasets.mnist.MNIST'>\n",
      "<class 'torchvision.datasets.mnist.MNIST'>\n"
     ]
    }
   ],
   "source": [
    "transform = transforms.Compose([transforms.ToTensor()])\n",
    "\n",
    "trainset = torchvision.datasets.MNIST(root='./data', train=True,download=True,transform=transform)\n",
    "testset = torchvision.datasets.MNIST(root='./data', train=False, download=True, transform=transform)\n",
    "trainloader = torch.utils.data.DataLoader(trainset,batch_size=len(trainset),shuffle=False,num_workers=2)\n",
    "testloader = torch.utils.data.DataLoader(testset, batch_size=len(testset),shuffle=False, num_workers=2)\n",
    "\n",
    "classes = tuple(np.linspace(0, 9, 10, dtype=np.uint8))\n",
    "\n",
    "print(type(transform))\n",
    "print(type(trainset))\n",
    "print(type(testset))\n",
    "\n",
    "trainset_not_transform = torchvision.datasets.MNIST(root='./data', train=True,download=True)\n",
    "testset_not_transform = torchvision.datasets.MNIST(root='./data', train=False, download=True)\n",
    "print(type(trainset_not_transform))\n",
    "print(type(testset_not_transform))\n",
    "\n",
    "trainloader_iter = iter(trainloader)\n",
    "train_images, train_labels = trainloader_iter.next()\n"
   ]
  },
  {
   "cell_type": "code",
   "execution_count": 13,
   "metadata": {},
   "outputs": [
    {
     "data": {
      "text/plain": [
       "{0: [], 1: [], 2: [], 3: [], 4: [], 5: [], 6: [], 7: [], 8: [], 9: []}"
      ]
     },
     "execution_count": 13,
     "metadata": {},
     "output_type": "execute_result"
    }
   ],
   "source": [
    "MNIST_dict = {i: [] for i in range(10)}\n",
    "MNIST_dict"
   ]
  },
  {
   "cell_type": "code",
   "execution_count": null,
   "metadata": {},
   "outputs": [],
   "source": []
  },
  {
   "cell_type": "code",
   "execution_count": 14,
   "metadata": {},
   "outputs": [],
   "source": [
    "for i in range(len(train_images)):\n",
    "    if train_labels[i] == 0:\n",
    "        MNIST_dict[0].append(train_images[i])\n",
    "    if train_labels[i] == 1:\n",
    "        MNIST_dict[1].append(train_images[i])\n",
    "    if train_labels[i] == 2:\n",
    "        MNIST_dict[2].append(train_images[i])\n",
    "    if train_labels[i] == 3:\n",
    "        MNIST_dict[3].append(train_images[i])\n",
    "    if train_labels[i] == 4:\n",
    "        MNIST_dict[4].append(train_images[i])\n",
    "    if train_labels[i] == 5:\n",
    "        MNIST_dict[5].append(train_images[i])\n",
    "    if train_labels[i] == 6:\n",
    "        MNIST_dict[6].append(train_images[i])\n",
    "    if train_labels[i] == 7:\n",
    "        MNIST_dict[7].append(train_images[i])\n",
    "    if train_labels[i] == 8:\n",
    "        MNIST_dict[8].append(train_images[i])\n",
    "    if train_labels[i] == 9:\n",
    "        MNIST_dict[9].append(train_images[i])"
   ]
  },
  {
   "cell_type": "code",
   "execution_count": 15,
   "metadata": {},
   "outputs": [
    {
     "data": {
      "text/plain": [
       "<matplotlib.image.AxesImage at 0x7f9e00def100>"
      ]
     },
     "execution_count": 15,
     "metadata": {},
     "output_type": "execute_result"
    },
    {
     "data": {
      "image/png": "[encoded data removed]",
      "text/plain": [
       "<Figure size 432x288 with 1 Axes>"
      ]
     },
     "metadata": {
      "needs_background": "light"
     },
     "output_type": "display_data"
    }
   ],
   "source": [
    "test1 = MNIST_dict[1][1000].numpy()\n",
    "test1 = test1.reshape((28, 28))\n",
    "plt.imshow(test1, cmap='gray')"
   ]
  },
  {
   "cell_type": "code",
   "execution_count": 16,
   "metadata": {},
   "outputs": [
    {
     "name": "stdout",
     "output_type": "stream",
     "text": [
      "5923\n",
      "6742\n",
      "5958\n",
      "6131\n",
      "5842\n",
      "5421\n",
      "5918\n",
      "6265\n",
      "5851\n",
      "5949\n"
     ]
    }
   ],
   "source": [
    "print(len(MNIST_dict[0]))\n",
    "print(len(MNIST_dict[1]))\n",
    "print(len(MNIST_dict[2]))\n",
    "print(len(MNIST_dict[3]))\n",
    "print(len(MNIST_dict[4]))\n",
    "print(len(MNIST_dict[5]))\n",
    "print(len(MNIST_dict[6]))\n",
    "print(len(MNIST_dict[7]))\n",
    "print(len(MNIST_dict[8]))\n",
    "print(len(MNIST_dict[9]))"
   ]
  },
  {
   "cell_type": "markdown",
   "metadata": {},
   "source": [
    "### ランダムに画像を指定して持ってくる"
   ]
  },
  {
   "cell_type": "code",
   "execution_count": 17,
   "metadata": {},
   "outputs": [],
   "source": [
    "def random_get(figure):\n",
    "    random_num = random.randrange(len(MNIST_dict[figure]))\n",
    "    random_get = MNIST_dict[figure][random_num].numpy()\n",
    "    random_get = random_get.reshape((28, 28))\n",
    "    plt.imshow(random_get, cmap='gray')\n",
    "    print('生成した画像番号は',random_num)\n"
   ]
  },
  {
   "cell_type": "code",
   "execution_count": 18,
   "metadata": {},
   "outputs": [
    {
     "name": "stdout",
     "output_type": "stream",
     "text": [
      "生成した画像番号は 2220\n"
     ]
    },
    {
     "data": {
      "image/png": "[encoded data removed]",
      "text/plain": [
       "<Figure size 432x288 with 1 Axes>"
      ]
     },
     "metadata": {
      "needs_background": "light"
     },
     "output_type": "display_data"
    }
   ],
   "source": [
    "random_get(2)"
   ]
  },
  {
   "cell_type": "code",
   "execution_count": 19,
   "metadata": {},
   "outputs": [
    {
     "name": "stdout",
     "output_type": "stream",
     "text": [
      "None (28, 28) L\n",
      "(0, 255)\n",
      "255\n"
     ]
    },
    {
     "data": {
      "image/png": "[encoded data removed]",
      "text/plain": [
       "<Figure size 432x288 with 1 Axes>"
      ]
     },
     "metadata": {
      "needs_background": "light"
     },
     "output_type": "display_data"
    }
   ],
   "source": [
    "im2 = Image.open('img/multiplication28pix.png')\n",
    "new_im = im2.convert('L')\n",
    "plt.imshow(np.array(new_im), cmap='gray')\n",
    "print(new_im.format, new_im.size, new_im.mode) #フォーマット、サイズ（幅、高さ）、モードなどのメタ情報を取得。サイズは(幅, 高さ)。\n",
    "print(new_im.getextrema()) #RGB各色の最小値と最大値を取得。\n",
    "print(new_im.getpixel((14, 14))) #指定した座標の色を取得。座標の原点(0, 0)は左上。(R, G, B)のタプルが返される。"
   ]
  },
  {
   "cell_type": "markdown",
   "metadata": {},
   "source": [
    "### 画像を取得し、Tensorへ変換する"
   ]
  },
  {
   "cell_type": "code",
   "execution_count": 20,
   "metadata": {},
   "outputs": [
    {
     "name": "stdout",
     "output_type": "stream",
     "text": [
      "tensor([[[0., 0., 0.,  ..., 0., 0., 0.],\n",
      "         [0., 0., 0.,  ..., 0., 0., 0.],\n",
      "         [0., 0., 0.,  ..., 0., 0., 0.],\n",
      "         ...,\n",
      "         [0., 0., 0.,  ..., 0., 0., 0.],\n",
      "         [0., 0., 0.,  ..., 0., 0., 0.],\n",
      "         [0., 0., 0.,  ..., 0., 0., 0.]],\n",
      "\n",
      "        [[0., 0., 0.,  ..., 0., 0., 0.],\n",
      "         [0., 0., 0.,  ..., 0., 0., 0.],\n",
      "         [0., 0., 0.,  ..., 0., 0., 0.],\n",
      "         ...,\n",
      "         [0., 0., 0.,  ..., 0., 0., 0.],\n",
      "         [0., 0., 0.,  ..., 0., 0., 0.],\n",
      "         [0., 0., 0.,  ..., 0., 0., 0.]],\n",
      "\n",
      "        [[0., 0., 0.,  ..., 0., 0., 0.],\n",
      "         [0., 0., 0.,  ..., 0., 0., 0.],\n",
      "         [0., 0., 0.,  ..., 0., 0., 0.],\n",
      "         ...,\n",
      "         [0., 0., 0.,  ..., 0., 0., 0.],\n",
      "         [0., 0., 0.,  ..., 0., 0., 0.],\n",
      "         [0., 0., 0.,  ..., 0., 0., 0.]],\n",
      "\n",
      "        [[1., 1., 1.,  ..., 1., 1., 1.],\n",
      "         [1., 1., 1.,  ..., 1., 1., 1.],\n",
      "         [1., 1., 1.,  ..., 1., 1., 1.],\n",
      "         ...,\n",
      "         [1., 1., 1.,  ..., 1., 1., 1.],\n",
      "         [1., 1., 1.,  ..., 1., 1., 1.],\n",
      "         [1., 1., 1.,  ..., 1., 1., 1.]]])\n",
      "tensor([[[0.0039, 0.0039, 0.0039,  ..., 0.0039, 0.0039, 0.0039],\n",
      "         [0.0039, 0.0039, 0.0039,  ..., 0.0039, 0.0039, 0.0039],\n",
      "         [0.0039, 0.0039, 0.0039,  ..., 0.0039, 0.0039, 0.0039],\n",
      "         ...,\n",
      "         [0.0039, 0.0039, 0.0039,  ..., 0.0039, 0.0039, 0.0039],\n",
      "         [0.0039, 0.0039, 0.0039,  ..., 0.0039, 0.0039, 0.0039],\n",
      "         [0.0039, 0.0039, 0.0039,  ..., 0.0039, 0.0039, 0.0039]],\n",
      "\n",
      "        [[0.0039, 0.0039, 0.0039,  ..., 0.0039, 0.0039, 0.0039],\n",
      "         [0.0039, 0.0039, 0.0039,  ..., 0.0039, 0.0039, 0.0039],\n",
      "         [0.0039, 0.0039, 0.0039,  ..., 0.0039, 0.0039, 0.0039],\n",
      "         ...,\n",
      "         [0.0039, 0.0039, 0.0039,  ..., 0.0039, 0.0039, 0.0039],\n",
      "         [0.0039, 0.0039, 0.0039,  ..., 0.0039, 0.0039, 0.0039],\n",
      "         [0.0039, 0.0039, 0.0039,  ..., 0.0039, 0.0039, 0.0039]],\n",
      "\n",
      "        [[0.0039, 0.0039, 0.0039,  ..., 0.0039, 0.0039, 0.0039],\n",
      "         [0.0039, 0.0039, 0.0039,  ..., 0.0039, 0.0039, 0.0039],\n",
      "         [0.0039, 0.0039, 0.0039,  ..., 0.0039, 0.0039, 0.0039],\n",
      "         ...,\n",
      "         [0.0039, 0.0039, 0.0039,  ..., 0.0039, 0.0039, 0.0039],\n",
      "         [0.0039, 0.0039, 0.0039,  ..., 0.0039, 0.0039, 0.0039],\n",
      "         [0.0039, 0.0039, 0.0039,  ..., 0.0039, 0.0039, 0.0039]]])\n",
      "tensor([[[0.0039, 0.0039, 0.0039,  ..., 0.0039, 0.0039, 0.0039],\n",
      "         [0.0039, 0.0039, 0.0039,  ..., 0.0039, 0.0039, 0.0039],\n",
      "         [0.0039, 0.0039, 0.0039,  ..., 0.0039, 0.0039, 0.0039],\n",
      "         ...,\n",
      "         [0.0039, 0.0039, 0.0039,  ..., 0.0039, 0.0039, 0.0039],\n",
      "         [0.0039, 0.0039, 0.0039,  ..., 0.0039, 0.0039, 0.0039],\n",
      "         [0.0039, 0.0039, 0.0039,  ..., 0.0039, 0.0039, 0.0039]],\n",
      "\n",
      "        [[0.0039, 0.0039, 0.0039,  ..., 0.0039, 0.0039, 0.0039],\n",
      "         [0.0039, 0.0039, 0.0039,  ..., 0.0039, 0.0039, 0.0039],\n",
      "         [0.0039, 0.0039, 0.0039,  ..., 0.0039, 0.0039, 0.0039],\n",
      "         ...,\n",
      "         [0.0039, 0.0039, 0.0039,  ..., 0.0039, 0.0039, 0.0039],\n",
      "         [0.0039, 0.0039, 0.0039,  ..., 0.0039, 0.0039, 0.0039],\n",
      "         [0.0039, 0.0039, 0.0039,  ..., 0.0039, 0.0039, 0.0039]],\n",
      "\n",
      "        [[0.0039, 0.0039, 0.0039,  ..., 0.0039, 0.0039, 0.0039],\n",
      "         [0.0039, 0.0039, 0.0039,  ..., 0.0039, 0.0039, 0.0039],\n",
      "         [0.0039, 0.0039, 0.0039,  ..., 0.0039, 0.0039, 0.0039],\n",
      "         ...,\n",
      "         [0.0039, 0.0039, 0.0039,  ..., 0.0039, 0.0039, 0.0039],\n",
      "         [0.0039, 0.0039, 0.0039,  ..., 0.0039, 0.0039, 0.0039],\n",
      "         [0.0039, 0.0039, 0.0039,  ..., 0.0039, 0.0039, 0.0039]]])\n"
     ]
    }
   ],
   "source": [
    "img1 = Image.open('img/multiplication28pix.png')\n",
    "img1_tensor = torchvision.transforms.functional.to_tensor(img1)\n",
    "print(img1_tensor)\n",
    "# plt.imshow(np.array(img1), cmap='gray')\n",
    "\n",
    "img2 = Image.open('img/addition28pix.jpg')\n",
    "img2_tensor = torchvision.transforms.functional.to_tensor(img2)\n",
    "print(img2_tensor)\n",
    "# plt.imshow(np.array(img2), cmap='gray')\n",
    "\n",
    "img3 = Image.open('img/equal28pix.jpg')\n",
    "img3_tensor = torchvision.transforms.functional.to_tensor(img3)\n",
    "print(img3_tensor)\n",
    "# plt.imshow(np.array(img3), cmap='gray')"
   ]
  },
  {
   "cell_type": "code",
   "execution_count": 21,
   "metadata": {},
   "outputs": [
    {
     "data": {
      "image/png": "[encoded data removed]",
      "text/plain": [
       "<Figure size 432x288 with 1 Axes>"
      ]
     },
     "metadata": {
      "needs_background": "light"
     },
     "output_type": "display_data"
    }
   ],
   "source": [
    "plt.imshow(img1_tensor[0],cmap=\"gray\")\n",
    "plt.savefig(\"test.png\")"
   ]
  },
  {
   "cell_type": "markdown",
   "metadata": {},
   "source": [
    "### Tensorから画像に戻してみる"
   ]
  },
  {
   "cell_type": "code",
   "execution_count": 22,
   "metadata": {},
   "outputs": [
    {
     "data": {
      "text/plain": [
       "<matplotlib.image.AxesImage at 0x7f9df89b0a90>"
      ]
     },
     "execution_count": 22,
     "metadata": {},
     "output_type": "execute_result"
    },
    {
     "data": {
      "image/png": "[encoded data removed]",
      "text/plain": [
       "<Figure size 432x288 with 1 Axes>"
      ]
     },
     "metadata": {
      "needs_background": "light"
     },
     "output_type": "display_data"
    }
   ],
   "source": [
    "img1_PIL = torchvision.transforms.functional.to_pil_image(img1_tensor)\n",
    "# img1_PIL.show\n",
    "plt.imshow(img1_PIL, cmap='gray')"
   ]
  },
  {
   "cell_type": "markdown",
   "metadata": {},
   "source": [
    "### Tensorを画像として保存する"
   ]
  },
  {
   "cell_type": "markdown",
   "metadata": {},
   "source": [
    "2つとも試したけどだめだった。エラーは同じ。\n",
    "```\n",
    "torchvision.utils.save_image(img3_tensor,'img_tensor3.jpg')　←　tensorをtorchvisionを使って画像化\n",
    "img1_PIL.save(\"img1_PIL.jpg\",\"JPEG\",quality=95)　← PILをつかって、JPEGを保存する\n",
    "\n",
    "OSError: cannot write mode RGBA as JPEG\n",
    "```\n",
    "\n",
    "結論、.pngを読み込むと、TensorがRGBAになってしまい、各ライブラリの保存形式では保存ができないということが起きた。\n"
   ]
  },
  {
   "cell_type": "code",
   "execution_count": 23,
   "metadata": {},
   "outputs": [],
   "source": [
    "#どっちでも行けるんだけど、PILよりtorchvisionで出来る方を採用しよう。\n",
    "# img1_PIL.save(\"img1_PIL.jpg\",\"JPEG\")\n",
    "torchvision.utils.save_image(img3_tensor,'train_img/img_tensor3.jpg')"
   ]
  },
  {
   "cell_type": "markdown",
   "metadata": {},
   "source": [
    "ちなみにPNGで取得しても、後でRGB変換をすれば、上記save機能で保存出来る。\n",
    "```\n",
    "from PIL import Image\n",
    "img1_PIL = img1_PIL.convert(\"RGB\")\n",
    "img1_PIL.save(\"img1_PIL.jpg\",\"JPEG\",quality=95)\n",
    "```"
   ]
  },
  {
   "cell_type": "markdown",
   "metadata": {},
   "source": [
    "## 次はここから！！！！\n",
    "やること：<br>\n",
    "●乱数を指定し、画像を取ってくる。seedな方が良いかもしれない。←done<br> \n",
    "●指定の数字の画像を取ってこれるようにするはX_digitとする。 ←できたも同然<br>\n",
    "●画像を横向きでくっつける <br> \n",
    "●画像を保存できるようにする ←done　<br>\n",
    "○指定のGoogleDriveのディレクトリに画像を保存する"
   ]
  },
  {
   "cell_type": "markdown",
   "metadata": {},
   "source": [
    "### 画像を横方向にくっつけていく\n",
    "参考文献：https://roshiago.blog.ss-blog.jp/2019-07-15　<br>\n",
    "https://note.nkmk.me/python-opencv-hconcat-vconcat-np-tile/<br>\n",
    "<br>\n",
    "Pillowでも出来そうだったんだけど、concatみたいな便利なメソッドは無さそうで<br>\n",
    "1つの大きな画像を作って、そこに上から位置を決めてペーストしていく、っていう面倒な感じに見えたからやめた<br>"
   ]
  },
  {
   "cell_type": "code",
   "execution_count": 24,
   "metadata": {},
   "outputs": [],
   "source": [
    "img1 = Image.open('img/multiplication28pix.jpg')\n",
    "img1 = np.array(img1)\n",
    "\n",
    "img2 = Image.open('img/addition28pix.jpg')\n",
    "img2 = np.array(img2)\n",
    "\n",
    "img3 = Image.open('img/equal28pix.jpg')\n",
    "img3 = np.array(img3)\n",
    "\n",
    "im_list = [img1,img2,img3]"
   ]
  },
  {
   "cell_type": "code",
   "execution_count": 25,
   "metadata": {},
   "outputs": [
    {
     "data": {
      "text/plain": [
       "True"
      ]
     },
     "execution_count": 25,
     "metadata": {},
     "output_type": "execute_result"
    }
   ],
   "source": [
    "img123_hconcat = cv2.hconcat(im_list)\n",
    "cv2.imwrite('train_img/img123_hconcat.jpg', img123_hconcat)"
   ]
  },
  {
   "cell_type": "markdown",
   "metadata": {},
   "source": []
  },
  {
   "cell_type": "markdown",
   "metadata": {},
   "source": []
  },
  {
   "cell_type": "markdown",
   "metadata": {},
   "source": []
  },
  {
   "cell_type": "markdown",
   "metadata": {},
   "source": []
  },
  {
   "cell_type": "markdown",
   "metadata": {},
   "source": []
  },
  {
   "cell_type": "markdown",
   "metadata": {},
   "source": []
  },
  {
   "cell_type": "markdown",
   "metadata": {},
   "source": []
  },
  {
   "cell_type": "markdown",
   "metadata": {},
   "source": [
    "### 指定の画像をgoogle driveへ保存する\n",
    "クライアントID：698980364619-aj0j55fddsknbmscqo5asdq1sk73g821.apps.googleusercontent.com<br>\n",
    "クライアントシークレット：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\n",
    "\n",
    "\n",
    "### スクリプトから使うときは、OAuthIDのアプリケーションの種類は「デスクトップアプリ」\n",
    "698980364619-bqpmu3vd8tsq23n3jrt5lbbv00kehe7l.apps.googleusercontent.com\n",
    "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"
   ]
  },
  {
   "cell_type": "code",
   "execution_count": 42,
   "metadata": {},
   "outputs": [
    {
     "name": "stdout",
     "output_type": "stream",
     "text": [
      "/Users/ryomacmini/work/codes/MNIST_Calculator/calculator/drive\n"
     ]
    }
   ],
   "source": [
    "%cd /Users/ryomacmini/work/codes/MNIST_Calculator/calculator/drive"
   ]
  },
  {
   "cell_type": "code",
   "execution_count": 86,
   "metadata": {},
   "outputs": [
    {
     "name": "stdout",
     "output_type": "stream",
     "text": [
      "Your browser has been opened to visit:\n",
      "\n",
      "    https://accounts.google.com/o/oauth2/auth?client_id=698980364619-aj0j55fddsknbmscqo5asdq1sk73g821.apps.googleusercontent.com&redirect_uri=http%3A%2F%2Flocalhost%3A8090%2F&scope=https%3A%2F%2Fwww.googleapis.com%2Fauth%2Fdrive&access_type=offline&response_type=code\n",
      "\n",
      "Authentication successful.\n",
      "GoogleDriveFile({'title': 'test.png', 'mimeType': 'image/png', 'parents': ['1NyB0TBcwtJm3xi9DIEV-Ty9UmVX0Gisc']})\n"
     ]
    }
   ],
   "source": [
    "%run imageupload.py"
   ]
  },
  {
   "cell_type": "code",
   "execution_count": null,
   "metadata": {},
   "outputs": [],
   "source": []
  },
  {
   "cell_type": "code",
   "execution_count": null,
   "metadata": {},
   "outputs": [],
   "source": []
  },
  {
   "cell_type": "code",
   "execution_count": null,
   "metadata": {},
   "outputs": [],
   "source": []
  },
  {
   "cell_type": "code",
   "execution_count": null,
   "metadata": {},
   "outputs": [],
   "source": []
  },
  {
   "cell_type": "code",
   "execution_count": null,
   "metadata": {},
   "outputs": [],
   "source": []
  }
 ],
 "metadata": {
  "interpreter": {
   "hash": "26bf81a8b0f6551032e95511ce83bf33b5c6ceeaad0b2abcc2d7ce0051a0d263"
  },
  "kernelspec": {
   "display_name": "Python 3.9.5 64-bit ('.venv': pipenv)",
   "name": "python3"
  },
  "language_info": {
   "codemirror_mode": {
    "name": "ipython",
    "version": 3
   },
   "file_extension": ".py",
   "mimetype": "text/x-python",
   "name": "python",
   "nbconvert_exporter": "python",
   "pygments_lexer": "ipython3",
   "version": "3.9.5"
  },
  "orig_nbformat": 4
 },
 "nbformat": 4,
 "nbformat_minor": 2
}
