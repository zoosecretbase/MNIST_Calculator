{
 "cells": [
  {
   "cell_type": "code",
   "execution_count": 3,
   "source": [
    "from __future__ import division\n",
    "from __future__ import print_function\n",
    "\n",
    "import time\n",
    "import argparse\n",
    "import sys\n",
    "print(sys.version)\n",
    "print(sys.path)\n",
    "import numpy as np\n",
    "\n",
    "import torch\n",
    "import torch.nn.functional as F\n",
    "import torch.optim as optim\n",
    "from torchvision.utils import make_grid, save_image\n",
    "\n",
    "from tensorboardX import SummaryWriter\n",
    "from tqdm import tqdm\n",
    "from copy import deepcopy\n",
    "\n",
    "\n",
    "from utils import *\n",
    "from models import *\n",
    "from fid_score import *\n",
    "from inception_score import *\n",
    "\n",
    "from real_imgs import *\n",
    "\n"
   ],
   "outputs": [
    {
     "output_type": "stream",
     "name": "stdout",
     "text": [
      "3.9.5 (v3.9.5:0a7dcbdb13, May  3 2021, 13:17:02) \n",
      "[Clang 6.0 (clang-600.0.57)]\n",
      "['/Users/ryomacmini/work/codes/MNIST_Calculator', '/Users/ryomacmini/.vscode/extensions/ms-toolsai.jupyter-2021.8.2041215044/pythonFiles', '/Users/ryomacmini/.vscode/extensions/ms-toolsai.jupyter-2021.8.2041215044/pythonFiles/lib/python', '/Library/Frameworks/Python.framework/Versions/3.9/lib/python39.zip', '/Library/Frameworks/Python.framework/Versions/3.9/lib/python3.9', '/Library/Frameworks/Python.framework/Versions/3.9/lib/python3.9/lib-dynload', '', '/Users/ryomacmini/work/codes/TransGAN/.venv/lib/python3.9/site-packages', '/Users/ryomacmini/work/codes/TransGAN/.venv/lib/python3.9/site-packages/IPython/extensions', '/Users/ryomacmini/.ipython']\n"
     ]
    }
   ],
   "metadata": {}
  },
  {
   "cell_type": "code",
   "execution_count": null,
   "source": [
    "label_list = ['bird','frog']"
   ],
   "outputs": [],
   "metadata": {}
  },
  {
   "cell_type": "code",
   "execution_count": 9,
   "source": [
    "\n",
    "if __name__ == '__main__':\n",
    "    r = RealImage()  # ここで一度だけダウンロードと transform が行われる。\n",
    "    real_images = r.real_imgs_row_data(label_list)\n",
    "    print(real_images.size())\n",
    "    print('complete create cifar_image_set')"
   ],
   "outputs": [
    {
     "output_type": "stream",
     "name": "stdout",
     "text": [
      "Files already downloaded and verified\n",
      "torch.Size([10000, 3, 32, 32])\n"
     ]
    }
   ],
   "metadata": {}
  },
  {
   "cell_type": "code",
   "execution_count": 3,
   "source": [
    "img_size = 32\n",
    "transform = transforms.Compose([transforms.Resize(size=(img_size, img_size)),transforms.RandomHorizontalFlip(),transforms.ToTensor(),transforms.Normalize((0.5, 0.5, 0.5), (0.5, 0.5, 0.5))])\n",
    "train_set = torchvision.datasets.CIFAR10(root='./data', train=True, download=True, transform=transform)\n",
    "train_loader = torch.utils.data.DataLoader(dataset=train_set, batch_size=30, shuffle=True)"
   ],
   "outputs": [
    {
     "output_type": "stream",
     "name": "stdout",
     "text": [
      "Files already downloaded and verified\n"
     ]
    }
   ],
   "metadata": {}
  },
  {
   "cell_type": "code",
   "execution_count": 24,
   "source": [
    "train_set[1]"
   ],
   "outputs": [
    {
     "output_type": "execute_result",
     "data": {
      "text/plain": [
       "(tensor([[[-0.3804, -0.3176, -0.2863,  ..., -0.1765, -0.0118,  0.2078],\n",
       "          [-0.4431, -0.3961, -0.2471,  ..., -0.0196,  0.1373,  0.0980],\n",
       "          [-0.4745, -0.4667, -0.3804,  ..., -0.0980,  0.0902,  0.0980],\n",
       "          ...,\n",
       "          [-0.2706, -0.5216, -0.6706,  ...,  0.2078,  0.2235,  0.3725],\n",
       "          [ 0.0275, -0.0353, -0.1922,  ...,  0.2471,  0.2235,  0.2941],\n",
       "          [ 0.1216,  0.1216,  0.1216,  ...,  0.2784,  0.2392,  0.2784]],\n",
       " \n",
       "         [[-0.3647, -0.2941, -0.2549,  ..., -0.1843,  0.0745,  0.3882],\n",
       "          [-0.4275, -0.3725, -0.2235,  ..., -0.0196,  0.2000,  0.2549],\n",
       "          [-0.4588, -0.4510, -0.3569,  ..., -0.0980,  0.1451,  0.2157],\n",
       "          ...,\n",
       "          [-0.3490, -0.5843, -0.7333,  ...,  0.2549,  0.2078,  0.3098],\n",
       "          [-0.0510, -0.1059, -0.2706,  ...,  0.2627,  0.1922,  0.2078],\n",
       "          [ 0.0431,  0.0510,  0.0431,  ...,  0.2235,  0.1608,  0.1608]],\n",
       " \n",
       "         [[-0.4510, -0.4431, -0.4431,  ..., -0.2549,  0.0667,  0.4667],\n",
       "          [-0.5216, -0.5137, -0.3882,  ..., -0.0745,  0.2078,  0.3255],\n",
       "          [-0.5686, -0.5686, -0.4980,  ..., -0.1216,  0.1686,  0.2863],\n",
       "          ...,\n",
       "          [-0.2863, -0.5529, -0.7176,  ...,  0.3333,  0.2549,  0.3020],\n",
       "          [ 0.0275, -0.0588, -0.2471,  ...,  0.1137,  0.0196,  0.0039],\n",
       "          [ 0.1294,  0.1137,  0.0902,  ...,  0.0431, -0.0431, -0.0588]]]),\n",
       " 9)"
      ]
     },
     "metadata": {},
     "execution_count": 24
    }
   ],
   "metadata": {}
  },
  {
   "cell_type": "code",
   "execution_count": 23,
   "source": [
    "len(train_set[1])\n",
    "# train_set[0][0].shape"
   ],
   "outputs": [
    {
     "output_type": "execute_result",
     "data": {
      "text/plain": [
       "2"
      ]
     },
     "metadata": {},
     "execution_count": 23
    }
   ],
   "metadata": {}
  },
  {
   "cell_type": "code",
   "execution_count": null,
   "source": [],
   "outputs": [],
   "metadata": {}
  }
 ],
 "metadata": {
  "orig_nbformat": 4,
  "language_info": {
   "name": "python",
   "version": "3.9.5",
   "mimetype": "text/x-python",
   "codemirror_mode": {
    "name": "ipython",
    "version": 3
   },
   "pygments_lexer": "ipython3",
   "nbconvert_exporter": "python",
   "file_extension": ".py"
  },
  "kernelspec": {
   "name": "python3",
   "display_name": "Python 3.9.5 64-bit ('.venv': pipenv)"
  },
  "interpreter": {
   "hash": "1892d199a7b9b1b5d955f572dcfba6ae9c5fd4f1a185d7deece08bc9b3215cd4"
  }
 },
 "nbformat": 4,
 "nbformat_minor": 2
}